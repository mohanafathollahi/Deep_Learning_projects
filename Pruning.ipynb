{
 "cells": [
  {
   "cell_type": "code",
   "execution_count": 2,
   "metadata": {
    "colab": {
     "base_uri": "https://localhost:8080/",
     "height": 36
    },
    "id": "uKK0h03isJ_l",
    "outputId": "5054a31c-b5d0-4913-b27a-f8425d8cbeae"
   },
   "outputs": [
    {
     "data": {
      "application/vnd.google.colaboratory.intrinsic+json": {
       "type": "string"
      },
      "text/plain": [
       "'/device:GPU:0'"
      ]
     },
     "execution_count": 2,
     "metadata": {},
     "output_type": "execute_result"
    }
   ],
   "source": [
    "import tensorflow as tf\n",
    "tf.test.gpu_device_name()"
   ]
  },
  {
   "cell_type": "code",
   "execution_count": 3,
   "metadata": {
    "id": "qdBIYuhRsMtX"
   },
   "outputs": [],
   "source": [
    "import pandas as pd\n",
    "import numpy as np\n",
    "from matplotlib import pyplot as plt\n",
    "%matplotlib inline\n",
    "\n",
    "from sklearn.model_selection import train_test_split\n",
    "from tensorflow.keras.datasets import fashion_mnist\n",
    "from tensorflow.keras.utils import to_categorical\n",
    "from tensorflow.keras.models import Sequential\n",
    "from tensorflow.keras.layers import Dense, Activation\n",
    "from tensorflow.keras.optimizers import Adam\n",
    "from tensorflow.keras.callbacks import ModelCheckpoint\n",
    "from tensorflow.keras.models import load_model"
   ]
  },
  {
   "cell_type": "markdown",
   "metadata": {
    "id": "D2jpCIBWNxKd"
   },
   "source": [
    "Importing Data set"
   ]
  },
  {
   "cell_type": "code",
   "execution_count": 4,
   "metadata": {
    "colab": {
     "base_uri": "https://localhost:8080/"
    },
    "id": "WEVPIWNAjzFk",
    "outputId": "2353fbca-6a95-40ed-acb8-02c0366539b3"
   },
   "outputs": [
    {
     "name": "stdout",
     "output_type": "stream",
     "text": [
      "Downloading data from https://storage.googleapis.com/tensorflow/tf-keras-datasets/train-labels-idx1-ubyte.gz\n",
      "32768/29515 [=================================] - 0s 0us/step\n",
      "40960/29515 [=========================================] - 0s 0us/step\n",
      "Downloading data from https://storage.googleapis.com/tensorflow/tf-keras-datasets/train-images-idx3-ubyte.gz\n",
      "26427392/26421880 [==============================] - 1s 0us/step\n",
      "26435584/26421880 [==============================] - 1s 0us/step\n",
      "Downloading data from https://storage.googleapis.com/tensorflow/tf-keras-datasets/t10k-labels-idx1-ubyte.gz\n",
      "16384/5148 [===============================================================================================] - 0s 0us/step\n",
      "Downloading data from https://storage.googleapis.com/tensorflow/tf-keras-datasets/t10k-images-idx3-ubyte.gz\n",
      "4423680/4422102 [==============================] - 0s 0us/step\n",
      "4431872/4422102 [==============================] - 0s 0us/step\n"
     ]
    }
   ],
   "source": [
    "((X_train, Y_train), (X_test, Y_test)) = fashion_mnist.load_data()"
   ]
  },
  {
   "cell_type": "code",
   "execution_count": 5,
   "metadata": {
    "colab": {
     "base_uri": "https://localhost:8080/"
    },
    "id": "8tN_T5bkj3v_",
    "outputId": "bfb18940-ebd8-46fb-bd34-721487d73d65"
   },
   "outputs": [
    {
     "data": {
      "text/plain": [
       "{0: 'T-shirt',\n",
       " 1: 'Trouser',\n",
       " 2: 'Pullover',\n",
       " 3: 'Dress',\n",
       " 4: 'Code',\n",
       " 5: 'Sandal',\n",
       " 6: 'Shirt',\n",
       " 7: 'Sneaker',\n",
       " 8: 'Bag',\n",
       " 9: 'Ankle Boot'}"
      ]
     },
     "execution_count": 5,
     "metadata": {},
     "output_type": "execute_result"
    }
   ],
   "source": [
    "class_labels = pd.Series(['T-shirt', 'Trouser', 'Pullover', 'Dress', 'Code', 'Sandal', 'Shirt', 'Sneaker', 'Bag', 'Ankle Boot'])\n",
    "labels_dict = class_labels.to_dict()\n",
    "labels_dict"
   ]
  },
  {
   "cell_type": "markdown",
   "metadata": {
    "id": "veNVvKlEN5Ps"
   },
   "source": [
    "Three smaple of trainng set"
   ]
  },
  {
   "cell_type": "code",
   "execution_count": 7,
   "metadata": {
    "colab": {
     "base_uri": "https://localhost:8080/",
     "height": 758
    },
    "id": "Mu2Y7KQcDZde",
    "outputId": "93391fa1-53eb-47dc-86b3-a3128ab30c26"
   },
   "outputs": [
    {
     "data": {
      "image/png": "[encoded data removed]",
      "text/plain": [
       "<Figure size 432x288 with 1 Axes>"
      ]
     },
     "metadata": {
      "needs_background": "light"
     },
     "output_type": "display_data"
    },
    {
     "data": {
      "image/png": "[encoded data removed]",
      "text/plain": [
       "<Figure size 432x288 with 1 Axes>"
      ]
     },
     "metadata": {
      "needs_background": "light"
     },
     "output_type": "display_data"
    },
    {
     "data": {
      "image/png": "[encoded data removed]",
      "text/plain": [
       "<Figure size 432x288 with 1 Axes>"
      ]
     },
     "metadata": {
      "needs_background": "light"
     },
     "output_type": "display_data"
    }
   ],
   "source": [
    "np.random.seed(4)\n",
    "for rand_num in np.random.randint(0, len(X_train), 3):\n",
    "    plt.figure()\n",
    "    plt.imshow(X_train[rand_num]), plt.axis('off')\n",
    "    plt.title(labels_dict[Y_train[rand_num]])"
   ]
  },
  {
   "cell_type": "markdown",
   "metadata": {
    "id": "k2NE2jSSFPMu"
   },
   "source": [
    "preprocessing"
   ]
  },
  {
   "cell_type": "code",
   "execution_count": 8,
   "metadata": {
    "id": "X5GR7exUkApe"
   },
   "outputs": [],
   "source": [
    "X_train_reshaped = X_train.reshape(len(X_train), -1)   \n",
    "X_test_reshaped = X_test.reshape(len(X_test), -1)\n",
    "\n",
    "X_train_norm = X_train_reshaped/255            \n",
    "X_test_norm = X_test_reshaped/255"
   ]
  },
  {
   "cell_type": "code",
   "execution_count": 9,
   "metadata": {
    "colab": {
     "base_uri": "https://localhost:8080/"
    },
    "id": "UEX4lB3nkuH6",
    "outputId": "d0419e93-4899-4736-d49c-ffda702a749e"
   },
   "outputs": [
    {
     "name": "stdout",
     "output_type": "stream",
     "text": [
      "Number of input features (image pixels) :  784\n",
      "Number of target classes (fashion categories) :  10\n"
     ]
    }
   ],
   "source": [
    "n_features = X_train_norm.shape[1]\n",
    "n_classes =  len(class_labels)\n",
    "\n",
    "print('Number of input features (image pixels) : ', n_features)\n",
    "print('Number of target classes (fashion categories) : ', n_classes)"
   ]
  },
  {
   "cell_type": "code",
   "execution_count": 10,
   "metadata": {
    "id": "YhsYCBAnl0hg"
   },
   "outputs": [],
   "source": [
    "Y_train_onehot = to_categorical(Y_train, num_classes = n_classes)\n",
    "Y_test_onehot = to_categorical(Y_test, num_classes = n_classes)"
   ]
  },
  {
   "cell_type": "markdown",
   "metadata": {
    "id": "H2AWgHS7N_1p"
   },
   "source": [
    "Split validation set"
   ]
  },
  {
   "cell_type": "code",
   "execution_count": 11,
   "metadata": {
    "colab": {
     "base_uri": "https://localhost:8080/"
    },
    "id": "aamQR9p8mFz_",
    "outputId": "da183e3e-85d5-4024-b72d-4846e65bf49a"
   },
   "outputs": [
    {
     "name": "stdout",
     "output_type": "stream",
     "text": [
      "Shape of data used for training, and shape of training targets : \n",
      "  (50000, 784) , (50000, 10)\n",
      "Shape of data used for validation, and shape of validation targets: \n",
      "  (10000, 784) , (10000, 10)\n"
     ]
    }
   ],
   "source": [
    "X_train_final, X_valid, Y_train_final, Y_valid = train_test_split(X_train_norm, Y_train_onehot, \n",
    "                                                                  test_size=0.16666)\n",
    "\n",
    "print('Shape of data used for training, and shape of training targets : \\n ', X_train_final.shape, ',', Y_train_final.shape)\n",
    "print('Shape of data used for validation, and shape of validation targets: \\n ', X_valid.shape, ',', Y_valid.shape)\n"
   ]
  },
  {
   "cell_type": "markdown",
   "metadata": {
    "id": "IL-APT0iPDKe"
   },
   "source": [
    "Building Neural Network"
   ]
  },
  {
   "cell_type": "code",
   "execution_count": 12,
   "metadata": {
    "colab": {
     "base_uri": "https://localhost:8080/"
    },
    "id": "Ub-76EWImIoa",
    "outputId": "2f74326d-3c64-4c36-b683-ef0bf6a8f670"
   },
   "outputs": [
    {
     "name": "stdout",
     "output_type": "stream",
     "text": [
      "Model: \"sequential\"\n",
      "_________________________________________________________________\n",
      " Layer (type)                Output Shape              Param #   \n",
      "=================================================================\n",
      " dense (Dense)               (None, 1000)              784000    \n",
      "                                                                 \n",
      " dense_1 (Dense)             (None, 1000)              1000000   \n",
      "                                                                 \n",
      " dense_2 (Dense)             (None, 500)               500000    \n",
      "                                                                 \n",
      " dense_3 (Dense)             (None, 200)               100000    \n",
      "                                                                 \n",
      " dense_4 (Dense)             (None, 10)                2000      \n",
      "                                                                 \n",
      "=================================================================\n",
      "Total params: 2,386,000\n",
      "Trainable params: 2,386,000\n",
      "Non-trainable params: 0\n",
      "_________________________________________________________________\n"
     ]
    }
   ],
   "source": [
    "model = Sequential()\n",
    "model.add(Dense(1000, input_dim = n_features, activation='relu', use_bias=False))\n",
    "model.add(Dense(1000, activation='relu', use_bias=False))\n",
    "model.add(Dense(500, activation='relu', use_bias=False))\n",
    "model.add(Dense(200, activation='relu', use_bias=False))\n",
    "model.add(Dense(n_classes, activation='softmax', use_bias=False))\n",
    "model.compile(loss='categorical_crossentropy', optimizer=Adam(0.0001), metrics=['accuracy'])\n",
    "\n",
    "model.summary()"
   ]
  },
  {
   "cell_type": "code",
   "execution_count": 13,
   "metadata": {
    "colab": {
     "base_uri": "https://localhost:8080/"
    },
    "id": "SL2Ilo7bp1ot",
    "outputId": "9b8767a2-15b3-4e07-b24c-2cce883c7600"
   },
   "outputs": [
    {
     "name": "stdout",
     "output_type": "stream",
     "text": [
      "Mounted at /content/drive\n"
     ]
    }
   ],
   "source": [
    "from google.colab import drive\n",
    "drive.mount('/content/drive')"
   ]
  },
  {
   "cell_type": "code",
   "execution_count": 14,
   "metadata": {
    "id": "WkKsi1peqLlD"
   },
   "outputs": [],
   "source": [
    "save_at = \"/content/drive/MyDrive/MUD\"\n",
    "save_best_model = ModelCheckpoint (save_at, monitor='val_accuracy', verbose=0, \n",
    "                             save_best_only=True, save_weights_only=False, mode='max')\n"
   ]
  },
  {
   "cell_type": "markdown",
   "metadata": {
    "id": "RNh0W1Yk06ui"
   },
   "source": [
    "Training of Neural Network"
   ]
  },
  {
   "cell_type": "code",
   "execution_count": 15,
   "metadata": {
    "colab": {
     "base_uri": "https://localhost:8080/",
     "height": 857
    },
    "id": "awKFMPoPquA2",
    "outputId": "9534b65b-502c-4cba-b38b-81d99b0f516f"
   },
   "outputs": [
    {
     "name": "stdout",
     "output_type": "stream",
     "text": [
      "Epoch 1/10\n",
      "2493/2500 [============================>.] - ETA: 0s - loss: 0.4879 - accuracy: 0.8267INFO:tensorflow:Assets written to: /content/drive/MyDrive/MUD/assets\n",
      "2500/2500 [==============================] - 11s 3ms/step - loss: 0.4876 - accuracy: 0.8268 - val_loss: 0.3697 - val_accuracy: 0.8667\n",
      "Epoch 2/10\n",
      "2491/2500 [============================>.] - ETA: 0s - loss: 0.3492 - accuracy: 0.8733INFO:tensorflow:Assets written to: /content/drive/MyDrive/MUD/assets\n",
      "2500/2500 [==============================] - 8s 3ms/step - loss: 0.3489 - accuracy: 0.8734 - val_loss: 0.3588 - val_accuracy: 0.8727\n",
      "Epoch 3/10\n",
      "2500/2500 [==============================] - 8s 3ms/step - loss: 0.3098 - accuracy: 0.8840 - val_loss: 0.3713 - val_accuracy: 0.8642\n",
      "Epoch 4/10\n",
      "2484/2500 [============================>.] - ETA: 0s - loss: 0.2808 - accuracy: 0.8949INFO:tensorflow:Assets written to: /content/drive/MyDrive/MUD/assets\n",
      "2500/2500 [==============================] - 9s 4ms/step - loss: 0.2806 - accuracy: 0.8950 - val_loss: 0.3058 - val_accuracy: 0.8894\n",
      "Epoch 5/10\n",
      "2500/2500 [==============================] - 9s 4ms/step - loss: 0.2566 - accuracy: 0.9038 - val_loss: 0.3164 - val_accuracy: 0.8871\n",
      "Epoch 6/10\n",
      "2500/2500 [==============================] - 8s 3ms/step - loss: 0.2375 - accuracy: 0.9119 - val_loss: 0.3049 - val_accuracy: 0.8876\n",
      "Epoch 7/10\n",
      "2491/2500 [============================>.] - ETA: 0s - loss: 0.2190 - accuracy: 0.9171INFO:tensorflow:Assets written to: /content/drive/MyDrive/MUD/assets\n",
      "2500/2500 [==============================] - 9s 4ms/step - loss: 0.2193 - accuracy: 0.9170 - val_loss: 0.3091 - val_accuracy: 0.8906\n",
      "Epoch 8/10\n",
      "2493/2500 [============================>.] - ETA: 0s - loss: 0.2062 - accuracy: 0.9226INFO:tensorflow:Assets written to: /content/drive/MyDrive/MUD/assets\n",
      "2500/2500 [==============================] - 9s 4ms/step - loss: 0.2060 - accuracy: 0.9227 - val_loss: 0.3229 - val_accuracy: 0.8908\n",
      "Epoch 9/10\n",
      "2489/2500 [============================>.] - ETA: 0s - loss: 0.1912 - accuracy: 0.9277INFO:tensorflow:Assets written to: /content/drive/MyDrive/MUD/assets\n",
      "2500/2500 [==============================] - 9s 3ms/step - loss: 0.1915 - accuracy: 0.9276 - val_loss: 0.3104 - val_accuracy: 0.8948\n",
      "Epoch 10/10\n",
      "2500/2500 [==============================] - 8s 3ms/step - loss: 0.1794 - accuracy: 0.9321 - val_loss: 0.3389 - val_accuracy: 0.8854\n"
     ]
    },
    {
     "data": {
      "image/png": "[encoded data removed]",
      "text/plain": [
       "<Figure size 432x360 with 1 Axes>"
      ]
     },
     "metadata": {
      "needs_background": "light"
     },
     "output_type": "display_data"
    }
   ],
   "source": [
    "history = model.fit( X_train_final, Y_train_final, \n",
    "                    epochs = 10, batch_size = 20, \n",
    "                    callbacks=[save_best_model], verbose=1, \n",
    "                    validation_data = (X_valid, Y_valid) )\n",
    "\n",
    "plt.figure(figsize=(6, 5))\n",
    "plt.plot(history.history['accuracy'], color='r')\n",
    "plt.plot(history.history['val_accuracy'], color='b')\n",
    "plt.title('Model Accuracy', weight='bold', fontsize=16)\n",
    "plt.ylabel('accuracy', weight='bold', fontsize=14)\n",
    "plt.xlabel('epoch', weight='bold', fontsize=14)\n",
    "plt.ylim(0.5, 1)\n",
    "plt.xticks(weight='bold', fontsize=12)\n",
    "plt.yticks(weight='bold', fontsize=12)\n",
    "plt.legend(['train', 'val'], loc='upper left', prop={'size': 14})\n",
    "plt.grid(color = 'y', linewidth='0.5')\n",
    "plt.show()"
   ]
  },
  {
   "cell_type": "markdown",
   "metadata": {
    "id": "-HI1Itud1Tkd"
   },
   "source": [
    "Test Accuracy"
   ]
  },
  {
   "cell_type": "code",
   "execution_count": 16,
   "metadata": {
    "colab": {
     "base_uri": "https://localhost:8080/"
    },
    "id": "juqdqMfdtD38",
    "outputId": "8a099b47-de58-43e1-f0ae-b357849eff85"
   },
   "outputs": [
    {
     "name": "stdout",
     "output_type": "stream",
     "text": [
      "313/313 [==============================] - 1s 3ms/step - loss: 0.3623 - accuracy: 0.8800\n",
      "Accuracy over the test set: \n",
      "  88.0 %\n"
     ]
    }
   ],
   "source": [
    "score = model.evaluate(X_test_norm, Y_test_onehot, verbose=1)\n",
    "print('Accuracy over the test set: \\n ', round((score[1]*100), 2), '%')"
   ]
  },
  {
   "cell_type": "code",
   "execution_count": 17,
   "metadata": {
    "colab": {
     "base_uri": "https://localhost:8080/"
    },
    "id": "oBZHA5jutZcp",
    "outputId": "a3c95ae0-d668-44c0-abae-f1501f297091"
   },
   "outputs": [
    {
     "data": {
      "text/plain": [
       "[<keras.layers.core.dense.Dense at 0x7fb7d97a4490>,\n",
       " <keras.layers.core.dense.Dense at 0x7fb7d811fd50>,\n",
       " <keras.layers.core.dense.Dense at 0x7fb7d80fd4d0>,\n",
       " <keras.layers.core.dense.Dense at 0x7fb80205ba10>,\n",
       " <keras.layers.core.dense.Dense at 0x7fb8020357d0>]"
      ]
     },
     "execution_count": 17,
     "metadata": {},
     "output_type": "execute_result"
    }
   ],
   "source": [
    "trained_model = load_model(\"/content/drive/MyDrive/MUD\")\n",
    "trained_model.layers"
   ]
  },
  {
   "cell_type": "markdown",
   "metadata": {
    "id": "r_6LOv7ct2zR"
   },
   "source": [
    "Weigh Prouning"
   ]
  },
  {
   "cell_type": "code",
   "execution_count": 19,
   "metadata": {
    "id": "eyuQOoN4twds"
   },
   "outputs": [],
   "source": [
    "all_weights = {}\n",
    "\n",
    "for layer_no in range(total_no_layers - 1):         #All except the final layer                                                                          #only the first four dense layers are to be pruned\n",
    "    layer_weights = (pd.DataFrame(trained_model.layers[layer_no].get_weights()[0]).stack()).to_dict()\n",
    "     \n",
    "    layer_weights = { (layer_no, k[0], k[1]): v for k, v in layer_weights.items() }\n",
    "    all_weights.update(layer_weights)\n",
    "    "
   ]
  },
  {
   "cell_type": "code",
   "execution_count": 20,
   "metadata": {
    "id": "j3UMBQT3t8OW"
   },
   "outputs": [],
   "source": [
    "#sorted vales in dictionary based on wights or value, and in ascending order\n",
    "all_weights_sorted = {k: v for k, v in sorted(all_weights.items(), key=lambda item: abs(item[1]))}  "
   ]
  },
  {
   "cell_type": "code",
   "execution_count": 23,
   "metadata": {
    "colab": {
     "base_uri": "https://localhost:8080/"
    },
    "id": "WP5QSuXDuBrY",
    "outputId": "74153f50-13f4-438f-e229-efdb87922204"
   },
   "outputs": [
    {
     "data": {
      "text/plain": [
       "2384000"
      ]
     },
     "execution_count": 23,
     "metadata": {},
     "output_type": "execute_result"
    }
   ],
   "source": [
    "total_no_weights = len(all_weights_sorted) \n",
    "total_no_weights "
   ]
  },
  {
   "cell_type": "markdown",
   "metadata": {
    "id": "QnescHZ829ji"
   },
   "source": [
    "Pruning percentages"
   ]
  },
  {
   "cell_type": "code",
   "execution_count": 24,
   "metadata": {
    "id": "TCFCMCW7tvN6"
   },
   "outputs": [],
   "source": [
    "K = [0,10, 20, 30, 40, 50,60, 70, 80, 90, 99]   "
   ]
  },
  {
   "cell_type": "code",
   "execution_count": 25,
   "metadata": {
    "colab": {
     "base_uri": "https://localhost:8080/"
    },
    "id": "7I2YtnLvuFmG",
    "outputId": "66385af6-57dc-4fb3-c841-fb88d32c5908"
   },
   "outputs": [
    {
     "name": "stdout",
     "output_type": "stream",
     "text": [
      "313/313 [==============================] - 1s 3ms/step - loss: 0.3260 - accuracy: 0.8851\n",
      "313/313 [==============================] - 1s 3ms/step - loss: 0.3259 - accuracy: 0.8849\n",
      "313/313 [==============================] - 1s 2ms/step - loss: 0.3285 - accuracy: 0.8849\n",
      "313/313 [==============================] - 1s 3ms/step - loss: 0.3293 - accuracy: 0.8849\n",
      "313/313 [==============================] - 1s 3ms/step - loss: 0.3385 - accuracy: 0.8787\n",
      "313/313 [==============================] - 1s 3ms/step - loss: 0.3598 - accuracy: 0.8748\n",
      "313/313 [==============================] - 1s 3ms/step - loss: 0.4091 - accuracy: 0.8555\n",
      "313/313 [==============================] - 1s 3ms/step - loss: 0.5658 - accuracy: 0.7960\n",
      "313/313 [==============================] - 1s 3ms/step - loss: 0.9952 - accuracy: 0.6538\n",
      "313/313 [==============================] - 1s 3ms/step - loss: 1.4832 - accuracy: 0.5199\n",
      "313/313 [==============================] - 1s 3ms/step - loss: 2.3011 - accuracy: 0.1009\n"
     ]
    }
   ],
   "source": [
    "weight_pruning_scores = []\n",
    "\n",
    "for pruning_percent in K:\n",
    "\n",
    "    new_model = load_model(\"/content/drive/MyDrive/MUD\")\n",
    "    new_weights = trained_model.get_weights().copy()\n",
    "    \n",
    "    prune_fraction = pruning_percent/100\n",
    "    number_of_weights_to_be_pruned = int(prune_fraction*total_no_weights) \n",
    "    #select triples that belong in prunning percentage\n",
    "    weights_to_be_pruned = {k: all_weights_sorted[k] for k in list(all_weights_sorted)[ :number_of_weights_to_be_pruned]}     \n",
    "    #based on Psitions that found before we should zero out weights in new_weights\n",
    "    for k, v in weights_to_be_pruned.items():\n",
    "        new_weights[k[0]][k[1], k[2]]=0\n",
    "    #reshape weights in layers\n",
    "    for layer_no in range(total_no_layers - 1) :\n",
    "      new_layer_weights = new_weights[layer_no].reshape(1, new_weights[layer_no].shape[0], new_weights[layer_no].shape[1])\n",
    "      new_model.layers[layer_no].set_weights(new_layer_weights)\n",
    "    #evaluate model with new weights on test set\n",
    "    new_score  = new_model.evaluate(X_test_norm, Y_test_onehot, verbose=1)\n",
    "    weight_pruning_scores .append(new_score[1])"
   ]
  },
  {
   "cell_type": "code",
   "execution_count": 27,
   "metadata": {
    "colab": {
     "base_uri": "https://localhost:8080/"
    },
    "id": "mNI32ytfcDDL",
    "outputId": "74a94d57-4006-4929-bd1c-4263c8054a20"
   },
   "outputs": [
    {
     "data": {
      "text/plain": [
       "[<keras.layers.core.dense.Dense at 0x7fb7aeebaa10>,\n",
       " <keras.layers.core.dense.Dense at 0x7fb7aeea6150>,\n",
       " <keras.layers.core.dense.Dense at 0x7fb7aeea6f10>,\n",
       " <keras.layers.core.dense.Dense at 0x7fb7aee82d10>,\n",
       " <keras.layers.core.dense.Dense at 0x7fb7aeeadad0>]"
      ]
     },
     "execution_count": 27,
     "metadata": {},
     "output_type": "execute_result"
    }
   ],
   "source": [
    "new_model.layers"
   ]
  },
  {
   "cell_type": "markdown",
   "metadata": {
    "id": "LXDxj3JaudE5"
   },
   "source": [
    "Neuron Prunning"
   ]
  },
  {
   "cell_type": "code",
   "execution_count": 42,
   "metadata": {
    "id": "cQkak_DFukVQ"
   },
   "outputs": [],
   "source": [
    "all_neurons = {}\n",
    "\n",
    "for layer_no in range(total_no_layers - 1):         \n",
    "\n",
    "    layer_neurons = {}\n",
    "    layer_neurons_df = pd.DataFrame(trained_model.layers[layer_no].get_weights()[0])\n",
    "\n",
    "    for i in range(len(layer_neurons_df.columns)):\n",
    "      layer_neurons.update({ i : np.array( layer_neurons_df.iloc[:,i] ) })  \n",
    "    \n",
    "    layer_neurons = { (layer_no, k): v for k, v in layer_neurons.items() }\n",
    "    all_neurons.update(layer_neurons)  "
   ]
  },
  {
   "cell_type": "code",
   "execution_count": 45,
   "metadata": {
    "id": "oJNBVv5JurPe"
   },
   "outputs": [],
   "source": [
    "#sorted weightes based on L2 norm in ascending order\n",
    "all_neurons_sorted = {k: v for k, v in sorted(all_neurons.items(), key=lambda item: np.linalg.norm(item[1], ord=2, axis=0))}"
   ]
  },
  {
   "cell_type": "code",
   "execution_count": 46,
   "metadata": {
    "colab": {
     "base_uri": "https://localhost:8080/"
    },
    "id": "RcB3QMAwuwkk",
    "outputId": "1759e602-038a-438f-e5bb-af6e2ec335f7"
   },
   "outputs": [
    {
     "data": {
      "text/plain": [
       "2700"
      ]
     },
     "execution_count": 46,
     "metadata": {},
     "output_type": "execute_result"
    }
   ],
   "source": [
    "total_no_neurons = len(all_neurons_sorted) \n",
    "total_no_neurons "
   ]
  },
  {
   "cell_type": "code",
   "execution_count": 47,
   "metadata": {
    "colab": {
     "base_uri": "https://localhost:8080/"
    },
    "id": "0v54zFBxu1oA",
    "outputId": "7c6d44fb-277d-470a-d650-70a4616fc111"
   },
   "outputs": [
    {
     "name": "stdout",
     "output_type": "stream",
     "text": [
      "313/313 [==============================] - 1s 3ms/step - loss: 0.3260 - accuracy: 0.8851\n",
      "313/313 [==============================] - 1s 3ms/step - loss: 0.3274 - accuracy: 0.8847\n",
      "313/313 [==============================] - 1s 3ms/step - loss: 0.3351 - accuracy: 0.8804\n",
      "313/313 [==============================] - 1s 3ms/step - loss: 0.6844 - accuracy: 0.7739\n",
      "313/313 [==============================] - 1s 3ms/step - loss: 1.3022 - accuracy: 0.6039\n",
      "313/313 [==============================] - 1s 3ms/step - loss: 1.8125 - accuracy: 0.4634\n",
      "313/313 [==============================] - 1s 3ms/step - loss: 2.1048 - accuracy: 0.3301\n",
      "313/313 [==============================] - 1s 3ms/step - loss: 2.2741 - accuracy: 0.1412\n",
      "313/313 [==============================] - 1s 3ms/step - loss: 2.3026 - accuracy: 0.1000\n",
      "313/313 [==============================] - 1s 3ms/step - loss: 2.3026 - accuracy: 0.1000\n",
      "313/313 [==============================] - 1s 3ms/step - loss: 2.3026 - accuracy: 0.1000\n"
     ]
    }
   ],
   "source": [
    "neuron_pruning_scores = []\n",
    "\n",
    "for pruning_percent in K:\n",
    "\n",
    "    new_model = load_model(\"/content/drive/MyDrive/MUD\")\n",
    "    new_weights = trained_model.get_weights().copy()\n",
    "\n",
    "    prune_fraction = pruning_percent/100\n",
    "    number_of_neurons_to_be_pruned = int(prune_fraction*total_no_neurons)\n",
    "    neurons_to_be_pruned = {k: all_neurons_sorted[k] for k in list(all_neurons_sorted)[ : number_of_neurons_to_be_pruned]}     \n",
    "\n",
    "    for k, v in neurons_to_be_pruned.items(): #zero out based on total\n",
    "        new_weights[k[0]][:, k[1]] = 0\n",
    "\n",
    "    for layer_no in range(total_no_layers - 1) :  #for 4 layers\n",
    "        new_layer_weights = new_weights[layer_no].reshape(1, new_weights[layer_no].shape[0], new_weights[layer_no].shape[1])\n",
    "        new_model.layers[layer_no].set_weights(new_layer_weights)\n",
    "    \n",
    "    new_score  = new_model.evaluate(X_test_norm, Y_test_onehot, verbose=1)\n",
    "    neuron_pruning_scores.append(new_score[1])"
   ]
  },
  {
   "cell_type": "code",
   "execution_count": 49,
   "metadata": {
    "colab": {
     "base_uri": "https://localhost:8080/",
     "height": 304
    },
    "id": "j1Yz0tSPvAba",
    "outputId": "0f1b432f-4555-4cef-8082-99ccccee4e0d"
   },
   "outputs": [
    {
     "data": {
      "image/png": "[encoded data removed]",
      "text/plain": [
       "<Figure size 576x288 with 1 Axes>"
      ]
     },
     "metadata": {
      "needs_background": "light"
     },
     "output_type": "display_data"
    }
   ],
   "source": [
    "plt.figure(figsize=(8, 4))\n",
    "plt.plot(pd.DataFrame(weight_pruning_scores).set_index(pd.Series(K), drop=True) , color='g')\n",
    "plt.plot(pd.DataFrame(neuron_pruning_scores).set_index(pd.Series(K), drop=True) , color='y')\n",
    "plt.title('Effect of Pruning on accuracy', weight='bold', fontsize=16)\n",
    "plt.ylabel('Score', weight='bold', fontsize=14)\n",
    "plt.xlabel('Pruning Percentage (K)', weight='bold', fontsize=14)\n",
    "plt.xticks(weight='bold', fontsize=12)\n",
    "plt.yticks(weight='bold', fontsize=12)\n",
    "plt.legend(['Weight Pruning', 'Neuron Pruning'], loc='best', prop={'size': 14})\n",
    "plt.grid(color = 'b', linewidth='0.5')\n",
    "plt.show()"
   ]
  }
 ],
 "metadata": {
  "accelerator": "GPU",
  "colab": {
   "collapsed_sections": [],
   "name": "Prunning.ipynb",
   "provenance": []
  },
  "kernelspec": {
   "display_name": "Python 3",
   "language": "python",
   "name": "python3"
  },
  "language_info": {
   "codemirror_mode": {
    "name": "ipython",
    "version": 3
   },
   "file_extension": ".py",
   "mimetype": "text/x-python",
   "name": "python",
   "nbconvert_exporter": "python",
   "pygments_lexer": "ipython3",
   "version": "3.8.8"
  }
 },
 "nbformat": 4,
 "nbformat_minor": 1
}
