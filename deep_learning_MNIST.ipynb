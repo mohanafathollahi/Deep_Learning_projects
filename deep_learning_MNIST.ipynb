{
  "nbformat": 4,
  "nbformat_minor": 0,
  "metadata": {
    "colab": {
      "name": "deep-learning-MNIST.ipynb",
      "provenance": [],
      "collapsed_sections": []
    },
    "kernelspec": {
      "name": "python3",
      "display_name": "Python 3"
    },
    "language_info": {
      "name": "python"
    },
    "accelerator": "GPU",
    "widgets": {
      "application/vnd.jupyter.widget-state+json": {
        "6ded364e3f11444d88cc9ea7af22ff36": {
          "model_module": "@jupyter-widgets/controls",
          "model_name": "HBoxModel",
          "model_module_version": "1.5.0",
          "state": {
            "_dom_classes": [],
            "_model_module": "@jupyter-widgets/controls",
            "_model_module_version": "1.5.0",
            "_model_name": "HBoxModel",
            "_view_count": null,
            "_view_module": "@jupyter-widgets/controls",
            "_view_module_version": "1.5.0",
            "_view_name": "HBoxView",
            "box_style": "",
            "children": [
              "IPY_MODEL_a04ef81d2fd346de9d5c1d05dc9e16ae",
              "IPY_MODEL_36b1014030614688841ed6b6948f6bc4",
              "IPY_MODEL_d89a568f3afa48d68a33066e991c847f"
            ],
            "layout": "IPY_MODEL_df1229fd80244e12b3eb318cd98af1dd"
          }
        },
        "a04ef81d2fd346de9d5c1d05dc9e16ae": {
          "model_module": "@jupyter-widgets/controls",
          "model_name": "HTMLModel",
          "model_module_version": "1.5.0",
          "state": {
            "_dom_classes": [],
            "_model_module": "@jupyter-widgets/controls",
            "_model_module_version": "1.5.0",
            "_model_name": "HTMLModel",
            "_view_count": null,
            "_view_module": "@jupyter-widgets/controls",
            "_view_module_version": "1.5.0",
            "_view_name": "HTMLView",
            "description": "",
            "description_tooltip": null,
            "layout": "IPY_MODEL_ba0bb7716a394a0697e08f5fcb70a3aa",
            "placeholder": "​",
            "style": "IPY_MODEL_800ea987e6f74a31850b8b809020accb",
            "value": ""
          }
        },
        "36b1014030614688841ed6b6948f6bc4": {
          "model_module": "@jupyter-widgets/controls",
          "model_name": "FloatProgressModel",
          "model_module_version": "1.5.0",
          "state": {
            "_dom_classes": [],
            "_model_module": "@jupyter-widgets/controls",
            "_model_module_version": "1.5.0",
            "_model_name": "FloatProgressModel",
            "_view_count": null,
            "_view_module": "@jupyter-widgets/controls",
            "_view_module_version": "1.5.0",
            "_view_name": "ProgressView",
            "bar_style": "success",
            "description": "",
            "description_tooltip": null,
            "layout": "IPY_MODEL_53d8a8a8e10c44f28e9cd1c24193370a",
            "max": 9912422,
            "min": 0,
            "orientation": "horizontal",
            "style": "IPY_MODEL_b4c4c4d7a46c476b96b20fe570af6ec8",
            "value": 9912422
          }
        },
        "d89a568f3afa48d68a33066e991c847f": {
          "model_module": "@jupyter-widgets/controls",
          "model_name": "HTMLModel",
          "model_module_version": "1.5.0",
          "state": {
            "_dom_classes": [],
            "_model_module": "@jupyter-widgets/controls",
            "_model_module_version": "1.5.0",
            "_model_name": "HTMLModel",
            "_view_count": null,
            "_view_module": "@jupyter-widgets/controls",
            "_view_module_version": "1.5.0",
            "_view_name": "HTMLView",
            "description": "",
            "description_tooltip": null,
            "layout": "IPY_MODEL_726d241b28f34fd49d6588cfaa40e7d0",
            "placeholder": "​",
            "style": "IPY_MODEL_13245131728a4185a9dc41ec42203ba3",
            "value": " 9913344/? [00:00&lt;00:00, 55198279.75it/s]"
          }
        },
        "df1229fd80244e12b3eb318cd98af1dd": {
          "model_module": "@jupyter-widgets/base",
          "model_name": "LayoutModel",
          "model_module_version": "1.2.0",
          "state": {
            "_model_module": "@jupyter-widgets/base",
            "_model_module_version": "1.2.0",
            "_model_name": "LayoutModel",
            "_view_count": null,
            "_view_module": "@jupyter-widgets/base",
            "_view_module_version": "1.2.0",
            "_view_name": "LayoutView",
            "align_content": null,
            "align_items": null,
            "align_self": null,
            "border": null,
            "bottom": null,
            "display": null,
            "flex": null,
            "flex_flow": null,
            "grid_area": null,
            "grid_auto_columns": null,
            "grid_auto_flow": null,
            "grid_auto_rows": null,
            "grid_column": null,
            "grid_gap": null,
            "grid_row": null,
            "grid_template_areas": null,
            "grid_template_columns": null,
            "grid_template_rows": null,
            "height": null,
            "justify_content": null,
            "justify_items": null,
            "left": null,
            "margin": null,
            "max_height": null,
            "max_width": null,
            "min_height": null,
            "min_width": null,
            "object_fit": null,
            "object_position": null,
            "order": null,
            "overflow": null,
            "overflow_x": null,
            "overflow_y": null,
            "padding": null,
            "right": null,
            "top": null,
            "visibility": null,
            "width": null
          }
        },
        "ba0bb7716a394a0697e08f5fcb70a3aa": {
          "model_module": "@jupyter-widgets/base",
          "model_name": "LayoutModel",
          "model_module_version": "1.2.0",
          "state": {
            "_model_module": "@jupyter-widgets/base",
            "_model_module_version": "1.2.0",
            "_model_name": "LayoutModel",
            "_view_count": null,
            "_view_module": "@jupyter-widgets/base",
            "_view_module_version": "1.2.0",
            "_view_name": "LayoutView",
            "align_content": null,
            "align_items": null,
            "align_self": null,
            "border": null,
            "bottom": null,
            "display": null,
            "flex": null,
            "flex_flow": null,
            "grid_area": null,
            "grid_auto_columns": null,
            "grid_auto_flow": null,
            "grid_auto_rows": null,
            "grid_column": null,
            "grid_gap": null,
            "grid_row": null,
            "grid_template_areas": null,
            "grid_template_columns": null,
            "grid_template_rows": null,
            "height": null,
            "justify_content": null,
            "justify_items": null,
            "left": null,
            "margin": null,
            "max_height": null,
            "max_width": null,
            "min_height": null,
            "min_width": null,
            "object_fit": null,
            "object_position": null,
            "order": null,
            "overflow": null,
            "overflow_x": null,
            "overflow_y": null,
            "padding": null,
            "right": null,
            "top": null,
            "visibility": null,
            "width": null
          }
        },
        "800ea987e6f74a31850b8b809020accb": {
          "model_module": "@jupyter-widgets/controls",
          "model_name": "DescriptionStyleModel",
          "model_module_version": "1.5.0",
          "state": {
            "_model_module": "@jupyter-widgets/controls",
            "_model_module_version": "1.5.0",
            "_model_name": "DescriptionStyleModel",
            "_view_count": null,
            "_view_module": "@jupyter-widgets/base",
            "_view_module_version": "1.2.0",
            "_view_name": "StyleView",
            "description_width": ""
          }
        },
        "53d8a8a8e10c44f28e9cd1c24193370a": {
          "model_module": "@jupyter-widgets/base",
          "model_name": "LayoutModel",
          "model_module_version": "1.2.0",
          "state": {
            "_model_module": "@jupyter-widgets/base",
            "_model_module_version": "1.2.0",
            "_model_name": "LayoutModel",
            "_view_count": null,
            "_view_module": "@jupyter-widgets/base",
            "_view_module_version": "1.2.0",
            "_view_name": "LayoutView",
            "align_content": null,
            "align_items": null,
            "align_self": null,
            "border": null,
            "bottom": null,
            "display": null,
            "flex": null,
            "flex_flow": null,
            "grid_area": null,
            "grid_auto_columns": null,
            "grid_auto_flow": null,
            "grid_auto_rows": null,
            "grid_column": null,
            "grid_gap": null,
            "grid_row": null,
            "grid_template_areas": null,
            "grid_template_columns": null,
            "grid_template_rows": null,
            "height": null,
            "justify_content": null,
            "justify_items": null,
            "left": null,
            "margin": null,
            "max_height": null,
            "max_width": null,
            "min_height": null,
            "min_width": null,
            "object_fit": null,
            "object_position": null,
            "order": null,
            "overflow": null,
            "overflow_x": null,
            "overflow_y": null,
            "padding": null,
            "right": null,
            "top": null,
            "visibility": null,
            "width": null
          }
        },
        "b4c4c4d7a46c476b96b20fe570af6ec8": {
          "model_module": "@jupyter-widgets/controls",
          "model_name": "ProgressStyleModel",
          "model_module_version": "1.5.0",
          "state": {
            "_model_module": "@jupyter-widgets/controls",
            "_model_module_version": "1.5.0",
            "_model_name": "ProgressStyleModel",
            "_view_count": null,
            "_view_module": "@jupyter-widgets/base",
            "_view_module_version": "1.2.0",
            "_view_name": "StyleView",
            "bar_color": null,
            "description_width": ""
          }
        },
        "726d241b28f34fd49d6588cfaa40e7d0": {
          "model_module": "@jupyter-widgets/base",
          "model_name": "LayoutModel",
          "model_module_version": "1.2.0",
          "state": {
            "_model_module": "@jupyter-widgets/base",
            "_model_module_version": "1.2.0",
            "_model_name": "LayoutModel",
            "_view_count": null,
            "_view_module": "@jupyter-widgets/base",
            "_view_module_version": "1.2.0",
            "_view_name": "LayoutView",
            "align_content": null,
            "align_items": null,
            "align_self": null,
            "border": null,
            "bottom": null,
            "display": null,
            "flex": null,
            "flex_flow": null,
            "grid_area": null,
            "grid_auto_columns": null,
            "grid_auto_flow": null,
            "grid_auto_rows": null,
            "grid_column": null,
            "grid_gap": null,
            "grid_row": null,
            "grid_template_areas": null,
            "grid_template_columns": null,
            "grid_template_rows": null,
            "height": null,
            "justify_content": null,
            "justify_items": null,
            "left": null,
            "margin": null,
            "max_height": null,
            "max_width": null,
            "min_height": null,
            "min_width": null,
            "object_fit": null,
            "object_position": null,
            "order": null,
            "overflow": null,
            "overflow_x": null,
            "overflow_y": null,
            "padding": null,
            "right": null,
            "top": null,
            "visibility": null,
            "width": null
          }
        },
        "13245131728a4185a9dc41ec42203ba3": {
          "model_module": "@jupyter-widgets/controls",
          "model_name": "DescriptionStyleModel",
          "model_module_version": "1.5.0",
          "state": {
            "_model_module": "@jupyter-widgets/controls",
            "_model_module_version": "1.5.0",
            "_model_name": "DescriptionStyleModel",
            "_view_count": null,
            "_view_module": "@jupyter-widgets/base",
            "_view_module_version": "1.2.0",
            "_view_name": "StyleView",
            "description_width": ""
          }
        },
        "0faf4a2407fa48708425380bc6efeede": {
          "model_module": "@jupyter-widgets/controls",
          "model_name": "HBoxModel",
          "model_module_version": "1.5.0",
          "state": {
            "_dom_classes": [],
            "_model_module": "@jupyter-widgets/controls",
            "_model_module_version": "1.5.0",
            "_model_name": "HBoxModel",
            "_view_count": null,
            "_view_module": "@jupyter-widgets/controls",
            "_view_module_version": "1.5.0",
            "_view_name": "HBoxView",
            "box_style": "",
            "children": [
              "IPY_MODEL_f111543ae254471e8c70b5572210f418",
              "IPY_MODEL_acecc65f97b4491c9a13b4a52a3e6654",
              "IPY_MODEL_8679573769e741eb82cb9600e114e2e3"
            ],
            "layout": "IPY_MODEL_e18142b4df124013ae68f74bcfef7920"
          }
        },
        "f111543ae254471e8c70b5572210f418": {
          "model_module": "@jupyter-widgets/controls",
          "model_name": "HTMLModel",
          "model_module_version": "1.5.0",
          "state": {
            "_dom_classes": [],
            "_model_module": "@jupyter-widgets/controls",
            "_model_module_version": "1.5.0",
            "_model_name": "HTMLModel",
            "_view_count": null,
            "_view_module": "@jupyter-widgets/controls",
            "_view_module_version": "1.5.0",
            "_view_name": "HTMLView",
            "description": "",
            "description_tooltip": null,
            "layout": "IPY_MODEL_548c39f9808041dea65d554ba5d57f14",
            "placeholder": "​",
            "style": "IPY_MODEL_4569a8ede1a644ff83b7fa97c4f77947",
            "value": ""
          }
        },
        "acecc65f97b4491c9a13b4a52a3e6654": {
          "model_module": "@jupyter-widgets/controls",
          "model_name": "FloatProgressModel",
          "model_module_version": "1.5.0",
          "state": {
            "_dom_classes": [],
            "_model_module": "@jupyter-widgets/controls",
            "_model_module_version": "1.5.0",
            "_model_name": "FloatProgressModel",
            "_view_count": null,
            "_view_module": "@jupyter-widgets/controls",
            "_view_module_version": "1.5.0",
            "_view_name": "ProgressView",
            "bar_style": "success",
            "description": "",
            "description_tooltip": null,
            "layout": "IPY_MODEL_1836cdf860fd440088599d5d3ca67f9f",
            "max": 28881,
            "min": 0,
            "orientation": "horizontal",
            "style": "IPY_MODEL_a225f997bb0b48f7a7b28110dcb1b233",
            "value": 28881
          }
        },
        "8679573769e741eb82cb9600e114e2e3": {
          "model_module": "@jupyter-widgets/controls",
          "model_name": "HTMLModel",
          "model_module_version": "1.5.0",
          "state": {
            "_dom_classes": [],
            "_model_module": "@jupyter-widgets/controls",
            "_model_module_version": "1.5.0",
            "_model_name": "HTMLModel",
            "_view_count": null,
            "_view_module": "@jupyter-widgets/controls",
            "_view_module_version": "1.5.0",
            "_view_name": "HTMLView",
            "description": "",
            "description_tooltip": null,
            "layout": "IPY_MODEL_b24b0455e0b24653a71e5be4cd4cd8f7",
            "placeholder": "​",
            "style": "IPY_MODEL_7ee03cc45886475f9b8ad76ce47341b1",
            "value": " 29696/? [00:00&lt;00:00, 592071.36it/s]"
          }
        },
        "e18142b4df124013ae68f74bcfef7920": {
          "model_module": "@jupyter-widgets/base",
          "model_name": "LayoutModel",
          "model_module_version": "1.2.0",
          "state": {
            "_model_module": "@jupyter-widgets/base",
            "_model_module_version": "1.2.0",
            "_model_name": "LayoutModel",
            "_view_count": null,
            "_view_module": "@jupyter-widgets/base",
            "_view_module_version": "1.2.0",
            "_view_name": "LayoutView",
            "align_content": null,
            "align_items": null,
            "align_self": null,
            "border": null,
            "bottom": null,
            "display": null,
            "flex": null,
            "flex_flow": null,
            "grid_area": null,
            "grid_auto_columns": null,
            "grid_auto_flow": null,
            "grid_auto_rows": null,
            "grid_column": null,
            "grid_gap": null,
            "grid_row": null,
            "grid_template_areas": null,
            "grid_template_columns": null,
            "grid_template_rows": null,
            "height": null,
            "justify_content": null,
            "justify_items": null,
            "left": null,
            "margin": null,
            "max_height": null,
            "max_width": null,
            "min_height": null,
            "min_width": null,
            "object_fit": null,
            "object_position": null,
            "order": null,
            "overflow": null,
            "overflow_x": null,
            "overflow_y": null,
            "padding": null,
            "right": null,
            "top": null,
            "visibility": null,
            "width": null
          }
        },
        "548c39f9808041dea65d554ba5d57f14": {
          "model_module": "@jupyter-widgets/base",
          "model_name": "LayoutModel",
          "model_module_version": "1.2.0",
          "state": {
            "_model_module": "@jupyter-widgets/base",
            "_model_module_version": "1.2.0",
            "_model_name": "LayoutModel",
            "_view_count": null,
            "_view_module": "@jupyter-widgets/base",
            "_view_module_version": "1.2.0",
            "_view_name": "LayoutView",
            "align_content": null,
            "align_items": null,
            "align_self": null,
            "border": null,
            "bottom": null,
            "display": null,
            "flex": null,
            "flex_flow": null,
            "grid_area": null,
            "grid_auto_columns": null,
            "grid_auto_flow": null,
            "grid_auto_rows": null,
            "grid_column": null,
            "grid_gap": null,
            "grid_row": null,
            "grid_template_areas": null,
            "grid_template_columns": null,
            "grid_template_rows": null,
            "height": null,
            "justify_content": null,
            "justify_items": null,
            "left": null,
            "margin": null,
            "max_height": null,
            "max_width": null,
            "min_height": null,
            "min_width": null,
            "object_fit": null,
            "object_position": null,
            "order": null,
            "overflow": null,
            "overflow_x": null,
            "overflow_y": null,
            "padding": null,
            "right": null,
            "top": null,
            "visibility": null,
            "width": null
          }
        },
        "4569a8ede1a644ff83b7fa97c4f77947": {
          "model_module": "@jupyter-widgets/controls",
          "model_name": "DescriptionStyleModel",
          "model_module_version": "1.5.0",
          "state": {
            "_model_module": "@jupyter-widgets/controls",
            "_model_module_version": "1.5.0",
            "_model_name": "DescriptionStyleModel",
            "_view_count": null,
            "_view_module": "@jupyter-widgets/base",
            "_view_module_version": "1.2.0",
            "_view_name": "StyleView",
            "description_width": ""
          }
        },
        "1836cdf860fd440088599d5d3ca67f9f": {
          "model_module": "@jupyter-widgets/base",
          "model_name": "LayoutModel",
          "model_module_version": "1.2.0",
          "state": {
            "_model_module": "@jupyter-widgets/base",
            "_model_module_version": "1.2.0",
            "_model_name": "LayoutModel",
            "_view_count": null,
            "_view_module": "@jupyter-widgets/base",
            "_view_module_version": "1.2.0",
            "_view_name": "LayoutView",
            "align_content": null,
            "align_items": null,
            "align_self": null,
            "border": null,
            "bottom": null,
            "display": null,
            "flex": null,
            "flex_flow": null,
            "grid_area": null,
            "grid_auto_columns": null,
            "grid_auto_flow": null,
            "grid_auto_rows": null,
            "grid_column": null,
            "grid_gap": null,
            "grid_row": null,
            "grid_template_areas": null,
            "grid_template_columns": null,
            "grid_template_rows": null,
            "height": null,
            "justify_content": null,
            "justify_items": null,
            "left": null,
            "margin": null,
            "max_height": null,
            "max_width": null,
            "min_height": null,
            "min_width": null,
            "object_fit": null,
            "object_position": null,
            "order": null,
            "overflow": null,
            "overflow_x": null,
            "overflow_y": null,
            "padding": null,
            "right": null,
            "top": null,
            "visibility": null,
            "width": null
          }
        },
        "a225f997bb0b48f7a7b28110dcb1b233": {
          "model_module": "@jupyter-widgets/controls",
          "model_name": "ProgressStyleModel",
          "model_module_version": "1.5.0",
          "state": {
            "_model_module": "@jupyter-widgets/controls",
            "_model_module_version": "1.5.0",
            "_model_name": "ProgressStyleModel",
            "_view_count": null,
            "_view_module": "@jupyter-widgets/base",
            "_view_module_version": "1.2.0",
            "_view_name": "StyleView",
            "bar_color": null,
            "description_width": ""
          }
        },
        "b24b0455e0b24653a71e5be4cd4cd8f7": {
          "model_module": "@jupyter-widgets/base",
          "model_name": "LayoutModel",
          "model_module_version": "1.2.0",
          "state": {
            "_model_module": "@jupyter-widgets/base",
            "_model_module_version": "1.2.0",
            "_model_name": "LayoutModel",
            "_view_count": null,
            "_view_module": "@jupyter-widgets/base",
            "_view_module_version": "1.2.0",
            "_view_name": "LayoutView",
            "align_content": null,
            "align_items": null,
            "align_self": null,
            "border": null,
            "bottom": null,
            "display": null,
            "flex": null,
            "flex_flow": null,
            "grid_area": null,
            "grid_auto_columns": null,
            "grid_auto_flow": null,
            "grid_auto_rows": null,
            "grid_column": null,
            "grid_gap": null,
            "grid_row": null,
            "grid_template_areas": null,
            "grid_template_columns": null,
            "grid_template_rows": null,
            "height": null,
            "justify_content": null,
            "justify_items": null,
            "left": null,
            "margin": null,
            "max_height": null,
            "max_width": null,
            "min_height": null,
            "min_width": null,
            "object_fit": null,
            "object_position": null,
            "order": null,
            "overflow": null,
            "overflow_x": null,
            "overflow_y": null,
            "padding": null,
            "right": null,
            "top": null,
            "visibility": null,
            "width": null
          }
        },
        "7ee03cc45886475f9b8ad76ce47341b1": {
          "model_module": "@jupyter-widgets/controls",
          "model_name": "DescriptionStyleModel",
          "model_module_version": "1.5.0",
          "state": {
            "_model_module": "@jupyter-widgets/controls",
            "_model_module_version": "1.5.0",
            "_model_name": "DescriptionStyleModel",
            "_view_count": null,
            "_view_module": "@jupyter-widgets/base",
            "_view_module_version": "1.2.0",
            "_view_name": "StyleView",
            "description_width": ""
          }
        },
        "2101ca3a8caf4ab7b76072d91f60f41f": {
          "model_module": "@jupyter-widgets/controls",
          "model_name": "HBoxModel",
          "model_module_version": "1.5.0",
          "state": {
            "_dom_classes": [],
            "_model_module": "@jupyter-widgets/controls",
            "_model_module_version": "1.5.0",
            "_model_name": "HBoxModel",
            "_view_count": null,
            "_view_module": "@jupyter-widgets/controls",
            "_view_module_version": "1.5.0",
            "_view_name": "HBoxView",
            "box_style": "",
            "children": [
              "IPY_MODEL_7f776ee3f99b4928888858d9fca86df1",
              "IPY_MODEL_f103a9cedf504dc0805074d29522794f",
              "IPY_MODEL_6df4c3536d3544abb9f4a06bf7ebc464"
            ],
            "layout": "IPY_MODEL_adcf5a265d3d4a699c7826e84d6d0618"
          }
        },
        "7f776ee3f99b4928888858d9fca86df1": {
          "model_module": "@jupyter-widgets/controls",
          "model_name": "HTMLModel",
          "model_module_version": "1.5.0",
          "state": {
            "_dom_classes": [],
            "_model_module": "@jupyter-widgets/controls",
            "_model_module_version": "1.5.0",
            "_model_name": "HTMLModel",
            "_view_count": null,
            "_view_module": "@jupyter-widgets/controls",
            "_view_module_version": "1.5.0",
            "_view_name": "HTMLView",
            "description": "",
            "description_tooltip": null,
            "layout": "IPY_MODEL_0dedcffa10124c9d800d0a13c7724c18",
            "placeholder": "​",
            "style": "IPY_MODEL_5749eb02c04648109932deda3f6ea767",
            "value": ""
          }
        },
        "f103a9cedf504dc0805074d29522794f": {
          "model_module": "@jupyter-widgets/controls",
          "model_name": "FloatProgressModel",
          "model_module_version": "1.5.0",
          "state": {
            "_dom_classes": [],
            "_model_module": "@jupyter-widgets/controls",
            "_model_module_version": "1.5.0",
            "_model_name": "FloatProgressModel",
            "_view_count": null,
            "_view_module": "@jupyter-widgets/controls",
            "_view_module_version": "1.5.0",
            "_view_name": "ProgressView",
            "bar_style": "success",
            "description": "",
            "description_tooltip": null,
            "layout": "IPY_MODEL_ca633e99057e46d4b278f636f53c30b8",
            "max": 1648877,
            "min": 0,
            "orientation": "horizontal",
            "style": "IPY_MODEL_a4d724e2a5e14c54843dd8780b59b0f1",
            "value": 1648877
          }
        },
        "6df4c3536d3544abb9f4a06bf7ebc464": {
          "model_module": "@jupyter-widgets/controls",
          "model_name": "HTMLModel",
          "model_module_version": "1.5.0",
          "state": {
            "_dom_classes": [],
            "_model_module": "@jupyter-widgets/controls",
            "_model_module_version": "1.5.0",
            "_model_name": "HTMLModel",
            "_view_count": null,
            "_view_module": "@jupyter-widgets/controls",
            "_view_module_version": "1.5.0",
            "_view_name": "HTMLView",
            "description": "",
            "description_tooltip": null,
            "layout": "IPY_MODEL_6e02ed97cb3940ab824be0802ae9a3a9",
            "placeholder": "​",
            "style": "IPY_MODEL_f3af1ed392284da5bb15f4422e2edc40",
            "value": " 1649664/? [00:00&lt;00:00, 18435398.80it/s]"
          }
        },
        "adcf5a265d3d4a699c7826e84d6d0618": {
          "model_module": "@jupyter-widgets/base",
          "model_name": "LayoutModel",
          "model_module_version": "1.2.0",
          "state": {
            "_model_module": "@jupyter-widgets/base",
            "_model_module_version": "1.2.0",
            "_model_name": "LayoutModel",
            "_view_count": null,
            "_view_module": "@jupyter-widgets/base",
            "_view_module_version": "1.2.0",
            "_view_name": "LayoutView",
            "align_content": null,
            "align_items": null,
            "align_self": null,
            "border": null,
            "bottom": null,
            "display": null,
            "flex": null,
            "flex_flow": null,
            "grid_area": null,
            "grid_auto_columns": null,
            "grid_auto_flow": null,
            "grid_auto_rows": null,
            "grid_column": null,
            "grid_gap": null,
            "grid_row": null,
            "grid_template_areas": null,
            "grid_template_columns": null,
            "grid_template_rows": null,
            "height": null,
            "justify_content": null,
            "justify_items": null,
            "left": null,
            "margin": null,
            "max_height": null,
            "max_width": null,
            "min_height": null,
            "min_width": null,
            "object_fit": null,
            "object_position": null,
            "order": null,
            "overflow": null,
            "overflow_x": null,
            "overflow_y": null,
            "padding": null,
            "right": null,
            "top": null,
            "visibility": null,
            "width": null
          }
        },
        "0dedcffa10124c9d800d0a13c7724c18": {
          "model_module": "@jupyter-widgets/base",
          "model_name": "LayoutModel",
          "model_module_version": "1.2.0",
          "state": {
            "_model_module": "@jupyter-widgets/base",
            "_model_module_version": "1.2.0",
            "_model_name": "LayoutModel",
            "_view_count": null,
            "_view_module": "@jupyter-widgets/base",
            "_view_module_version": "1.2.0",
            "_view_name": "LayoutView",
            "align_content": null,
            "align_items": null,
            "align_self": null,
            "border": null,
            "bottom": null,
            "display": null,
            "flex": null,
            "flex_flow": null,
            "grid_area": null,
            "grid_auto_columns": null,
            "grid_auto_flow": null,
            "grid_auto_rows": null,
            "grid_column": null,
            "grid_gap": null,
            "grid_row": null,
            "grid_template_areas": null,
            "grid_template_columns": null,
            "grid_template_rows": null,
            "height": null,
            "justify_content": null,
            "justify_items": null,
            "left": null,
            "margin": null,
            "max_height": null,
            "max_width": null,
            "min_height": null,
            "min_width": null,
            "object_fit": null,
            "object_position": null,
            "order": null,
            "overflow": null,
            "overflow_x": null,
            "overflow_y": null,
            "padding": null,
            "right": null,
            "top": null,
            "visibility": null,
            "width": null
          }
        },
        "5749eb02c04648109932deda3f6ea767": {
          "model_module": "@jupyter-widgets/controls",
          "model_name": "DescriptionStyleModel",
          "model_module_version": "1.5.0",
          "state": {
            "_model_module": "@jupyter-widgets/controls",
            "_model_module_version": "1.5.0",
            "_model_name": "DescriptionStyleModel",
            "_view_count": null,
            "_view_module": "@jupyter-widgets/base",
            "_view_module_version": "1.2.0",
            "_view_name": "StyleView",
            "description_width": ""
          }
        },
        "ca633e99057e46d4b278f636f53c30b8": {
          "model_module": "@jupyter-widgets/base",
          "model_name": "LayoutModel",
          "model_module_version": "1.2.0",
          "state": {
            "_model_module": "@jupyter-widgets/base",
            "_model_module_version": "1.2.0",
            "_model_name": "LayoutModel",
            "_view_count": null,
            "_view_module": "@jupyter-widgets/base",
            "_view_module_version": "1.2.0",
            "_view_name": "LayoutView",
            "align_content": null,
            "align_items": null,
            "align_self": null,
            "border": null,
            "bottom": null,
            "display": null,
            "flex": null,
            "flex_flow": null,
            "grid_area": null,
            "grid_auto_columns": null,
            "grid_auto_flow": null,
            "grid_auto_rows": null,
            "grid_column": null,
            "grid_gap": null,
            "grid_row": null,
            "grid_template_areas": null,
            "grid_template_columns": null,
            "grid_template_rows": null,
            "height": null,
            "justify_content": null,
            "justify_items": null,
            "left": null,
            "margin": null,
            "max_height": null,
            "max_width": null,
            "min_height": null,
            "min_width": null,
            "object_fit": null,
            "object_position": null,
            "order": null,
            "overflow": null,
            "overflow_x": null,
            "overflow_y": null,
            "padding": null,
            "right": null,
            "top": null,
            "visibility": null,
            "width": null
          }
        },
        "a4d724e2a5e14c54843dd8780b59b0f1": {
          "model_module": "@jupyter-widgets/controls",
          "model_name": "ProgressStyleModel",
          "model_module_version": "1.5.0",
          "state": {
            "_model_module": "@jupyter-widgets/controls",
            "_model_module_version": "1.5.0",
            "_model_name": "ProgressStyleModel",
            "_view_count": null,
            "_view_module": "@jupyter-widgets/base",
            "_view_module_version": "1.2.0",
            "_view_name": "StyleView",
            "bar_color": null,
            "description_width": ""
          }
        },
        "6e02ed97cb3940ab824be0802ae9a3a9": {
          "model_module": "@jupyter-widgets/base",
          "model_name": "LayoutModel",
          "model_module_version": "1.2.0",
          "state": {
            "_model_module": "@jupyter-widgets/base",
            "_model_module_version": "1.2.0",
            "_model_name": "LayoutModel",
            "_view_count": null,
            "_view_module": "@jupyter-widgets/base",
            "_view_module_version": "1.2.0",
            "_view_name": "LayoutView",
            "align_content": null,
            "align_items": null,
            "align_self": null,
            "border": null,
            "bottom": null,
            "display": null,
            "flex": null,
            "flex_flow": null,
            "grid_area": null,
            "grid_auto_columns": null,
            "grid_auto_flow": null,
            "grid_auto_rows": null,
            "grid_column": null,
            "grid_gap": null,
            "grid_row": null,
            "grid_template_areas": null,
            "grid_template_columns": null,
            "grid_template_rows": null,
            "height": null,
            "justify_content": null,
            "justify_items": null,
            "left": null,
            "margin": null,
            "max_height": null,
            "max_width": null,
            "min_height": null,
            "min_width": null,
            "object_fit": null,
            "object_position": null,
            "order": null,
            "overflow": null,
            "overflow_x": null,
            "overflow_y": null,
            "padding": null,
            "right": null,
            "top": null,
            "visibility": null,
            "width": null
          }
        },
        "f3af1ed392284da5bb15f4422e2edc40": {
          "model_module": "@jupyter-widgets/controls",
          "model_name": "DescriptionStyleModel",
          "model_module_version": "1.5.0",
          "state": {
            "_model_module": "@jupyter-widgets/controls",
            "_model_module_version": "1.5.0",
            "_model_name": "DescriptionStyleModel",
            "_view_count": null,
            "_view_module": "@jupyter-widgets/base",
            "_view_module_version": "1.2.0",
            "_view_name": "StyleView",
            "description_width": ""
          }
        },
        "fcd1abe3b6d64ba89eb86aa169166c31": {
          "model_module": "@jupyter-widgets/controls",
          "model_name": "HBoxModel",
          "model_module_version": "1.5.0",
          "state": {
            "_dom_classes": [],
            "_model_module": "@jupyter-widgets/controls",
            "_model_module_version": "1.5.0",
            "_model_name": "HBoxModel",
            "_view_count": null,
            "_view_module": "@jupyter-widgets/controls",
            "_view_module_version": "1.5.0",
            "_view_name": "HBoxView",
            "box_style": "",
            "children": [
              "IPY_MODEL_71ddb5b5b11f41d28ede45c221ee76ab",
              "IPY_MODEL_ccaf52567118404d9f126f93c2e649a5",
              "IPY_MODEL_f2fb99b9be0342a9883f11b1bb5111b4"
            ],
            "layout": "IPY_MODEL_88cef59c48664a45888c4eab74e24bcb"
          }
        },
        "71ddb5b5b11f41d28ede45c221ee76ab": {
          "model_module": "@jupyter-widgets/controls",
          "model_name": "HTMLModel",
          "model_module_version": "1.5.0",
          "state": {
            "_dom_classes": [],
            "_model_module": "@jupyter-widgets/controls",
            "_model_module_version": "1.5.0",
            "_model_name": "HTMLModel",
            "_view_count": null,
            "_view_module": "@jupyter-widgets/controls",
            "_view_module_version": "1.5.0",
            "_view_name": "HTMLView",
            "description": "",
            "description_tooltip": null,
            "layout": "IPY_MODEL_d39a983c062b4661b98f8f4a255d8b6e",
            "placeholder": "​",
            "style": "IPY_MODEL_17e9972258b74f4d90cfd1b0d1818603",
            "value": ""
          }
        },
        "ccaf52567118404d9f126f93c2e649a5": {
          "model_module": "@jupyter-widgets/controls",
          "model_name": "FloatProgressModel",
          "model_module_version": "1.5.0",
          "state": {
            "_dom_classes": [],
            "_model_module": "@jupyter-widgets/controls",
            "_model_module_version": "1.5.0",
            "_model_name": "FloatProgressModel",
            "_view_count": null,
            "_view_module": "@jupyter-widgets/controls",
            "_view_module_version": "1.5.0",
            "_view_name": "ProgressView",
            "bar_style": "success",
            "description": "",
            "description_tooltip": null,
            "layout": "IPY_MODEL_546a003be0d2448da428041ef46d5d2a",
            "max": 4542,
            "min": 0,
            "orientation": "horizontal",
            "style": "IPY_MODEL_31dfc8d5564a462db61f14d7177cc9ba",
            "value": 4542
          }
        },
        "f2fb99b9be0342a9883f11b1bb5111b4": {
          "model_module": "@jupyter-widgets/controls",
          "model_name": "HTMLModel",
          "model_module_version": "1.5.0",
          "state": {
            "_dom_classes": [],
            "_model_module": "@jupyter-widgets/controls",
            "_model_module_version": "1.5.0",
            "_model_name": "HTMLModel",
            "_view_count": null,
            "_view_module": "@jupyter-widgets/controls",
            "_view_module_version": "1.5.0",
            "_view_name": "HTMLView",
            "description": "",
            "description_tooltip": null,
            "layout": "IPY_MODEL_3822979c805f4148905463f4bc3b4eb6",
            "placeholder": "​",
            "style": "IPY_MODEL_ed48bfd6fcb24b379842f71980de7109",
            "value": " 5120/? [00:00&lt;00:00, 135498.19it/s]"
          }
        },
        "88cef59c48664a45888c4eab74e24bcb": {
          "model_module": "@jupyter-widgets/base",
          "model_name": "LayoutModel",
          "model_module_version": "1.2.0",
          "state": {
            "_model_module": "@jupyter-widgets/base",
            "_model_module_version": "1.2.0",
            "_model_name": "LayoutModel",
            "_view_count": null,
            "_view_module": "@jupyter-widgets/base",
            "_view_module_version": "1.2.0",
            "_view_name": "LayoutView",
            "align_content": null,
            "align_items": null,
            "align_self": null,
            "border": null,
            "bottom": null,
            "display": null,
            "flex": null,
            "flex_flow": null,
            "grid_area": null,
            "grid_auto_columns": null,
            "grid_auto_flow": null,
            "grid_auto_rows": null,
            "grid_column": null,
            "grid_gap": null,
            "grid_row": null,
            "grid_template_areas": null,
            "grid_template_columns": null,
            "grid_template_rows": null,
            "height": null,
            "justify_content": null,
            "justify_items": null,
            "left": null,
            "margin": null,
            "max_height": null,
            "max_width": null,
            "min_height": null,
            "min_width": null,
            "object_fit": null,
            "object_position": null,
            "order": null,
            "overflow": null,
            "overflow_x": null,
            "overflow_y": null,
            "padding": null,
            "right": null,
            "top": null,
            "visibility": null,
            "width": null
          }
        },
        "d39a983c062b4661b98f8f4a255d8b6e": {
          "model_module": "@jupyter-widgets/base",
          "model_name": "LayoutModel",
          "model_module_version": "1.2.0",
          "state": {
            "_model_module": "@jupyter-widgets/base",
            "_model_module_version": "1.2.0",
            "_model_name": "LayoutModel",
            "_view_count": null,
            "_view_module": "@jupyter-widgets/base",
            "_view_module_version": "1.2.0",
            "_view_name": "LayoutView",
            "align_content": null,
            "align_items": null,
            "align_self": null,
            "border": null,
            "bottom": null,
            "display": null,
            "flex": null,
            "flex_flow": null,
            "grid_area": null,
            "grid_auto_columns": null,
            "grid_auto_flow": null,
            "grid_auto_rows": null,
            "grid_column": null,
            "grid_gap": null,
            "grid_row": null,
            "grid_template_areas": null,
            "grid_template_columns": null,
            "grid_template_rows": null,
            "height": null,
            "justify_content": null,
            "justify_items": null,
            "left": null,
            "margin": null,
            "max_height": null,
            "max_width": null,
            "min_height": null,
            "min_width": null,
            "object_fit": null,
            "object_position": null,
            "order": null,
            "overflow": null,
            "overflow_x": null,
            "overflow_y": null,
            "padding": null,
            "right": null,
            "top": null,
            "visibility": null,
            "width": null
          }
        },
        "17e9972258b74f4d90cfd1b0d1818603": {
          "model_module": "@jupyter-widgets/controls",
          "model_name": "DescriptionStyleModel",
          "model_module_version": "1.5.0",
          "state": {
            "_model_module": "@jupyter-widgets/controls",
            "_model_module_version": "1.5.0",
            "_model_name": "DescriptionStyleModel",
            "_view_count": null,
            "_view_module": "@jupyter-widgets/base",
            "_view_module_version": "1.2.0",
            "_view_name": "StyleView",
            "description_width": ""
          }
        },
        "546a003be0d2448da428041ef46d5d2a": {
          "model_module": "@jupyter-widgets/base",
          "model_name": "LayoutModel",
          "model_module_version": "1.2.0",
          "state": {
            "_model_module": "@jupyter-widgets/base",
            "_model_module_version": "1.2.0",
            "_model_name": "LayoutModel",
            "_view_count": null,
            "_view_module": "@jupyter-widgets/base",
            "_view_module_version": "1.2.0",
            "_view_name": "LayoutView",
            "align_content": null,
            "align_items": null,
            "align_self": null,
            "border": null,
            "bottom": null,
            "display": null,
            "flex": null,
            "flex_flow": null,
            "grid_area": null,
            "grid_auto_columns": null,
            "grid_auto_flow": null,
            "grid_auto_rows": null,
            "grid_column": null,
            "grid_gap": null,
            "grid_row": null,
            "grid_template_areas": null,
            "grid_template_columns": null,
            "grid_template_rows": null,
            "height": null,
            "justify_content": null,
            "justify_items": null,
            "left": null,
            "margin": null,
            "max_height": null,
            "max_width": null,
            "min_height": null,
            "min_width": null,
            "object_fit": null,
            "object_position": null,
            "order": null,
            "overflow": null,
            "overflow_x": null,
            "overflow_y": null,
            "padding": null,
            "right": null,
            "top": null,
            "visibility": null,
            "width": null
          }
        },
        "31dfc8d5564a462db61f14d7177cc9ba": {
          "model_module": "@jupyter-widgets/controls",
          "model_name": "ProgressStyleModel",
          "model_module_version": "1.5.0",
          "state": {
            "_model_module": "@jupyter-widgets/controls",
            "_model_module_version": "1.5.0",
            "_model_name": "ProgressStyleModel",
            "_view_count": null,
            "_view_module": "@jupyter-widgets/base",
            "_view_module_version": "1.2.0",
            "_view_name": "StyleView",
            "bar_color": null,
            "description_width": ""
          }
        },
        "3822979c805f4148905463f4bc3b4eb6": {
          "model_module": "@jupyter-widgets/base",
          "model_name": "LayoutModel",
          "model_module_version": "1.2.0",
          "state": {
            "_model_module": "@jupyter-widgets/base",
            "_model_module_version": "1.2.0",
            "_model_name": "LayoutModel",
            "_view_count": null,
            "_view_module": "@jupyter-widgets/base",
            "_view_module_version": "1.2.0",
            "_view_name": "LayoutView",
            "align_content": null,
            "align_items": null,
            "align_self": null,
            "border": null,
            "bottom": null,
            "display": null,
            "flex": null,
            "flex_flow": null,
            "grid_area": null,
            "grid_auto_columns": null,
            "grid_auto_flow": null,
            "grid_auto_rows": null,
            "grid_column": null,
            "grid_gap": null,
            "grid_row": null,
            "grid_template_areas": null,
            "grid_template_columns": null,
            "grid_template_rows": null,
            "height": null,
            "justify_content": null,
            "justify_items": null,
            "left": null,
            "margin": null,
            "max_height": null,
            "max_width": null,
            "min_height": null,
            "min_width": null,
            "object_fit": null,
            "object_position": null,
            "order": null,
            "overflow": null,
            "overflow_x": null,
            "overflow_y": null,
            "padding": null,
            "right": null,
            "top": null,
            "visibility": null,
            "width": null
          }
        },
        "ed48bfd6fcb24b379842f71980de7109": {
          "model_module": "@jupyter-widgets/controls",
          "model_name": "DescriptionStyleModel",
          "model_module_version": "1.5.0",
          "state": {
            "_model_module": "@jupyter-widgets/controls",
            "_model_module_version": "1.5.0",
            "_model_name": "DescriptionStyleModel",
            "_view_count": null,
            "_view_module": "@jupyter-widgets/base",
            "_view_module_version": "1.2.0",
            "_view_name": "StyleView",
            "description_width": ""
          }
        }
      }
    }
  },
  "cells": [
    {
      "cell_type": "code",
      "execution_count": 2,
      "metadata": {
        "id": "4b81sbAyVJav",
        "colab": {
          "base_uri": "https://localhost:8080/"
        },
        "outputId": "59230ee4-791a-4857-fa46-b7ab0b4da01e"
      },
      "outputs": [
        {
          "output_type": "stream",
          "name": "stdout",
          "text": [
            "GPU\n"
          ]
        }
      ],
      "source": [
        "import torch\n",
        "import torchvision\n",
        "if torch.cuda.is_available():\n",
        "  device = torch.device('cuda:0')\n",
        "  print('GPU')\n",
        "else: \n",
        "  device = torch.device('cpu')\n",
        "  print('cpu')"
      ]
    },
    {
      "cell_type": "code",
      "source": [
        "import numpy as np\n",
        "import pandas as pd\n",
        "import matplotlib.pyplot as plt    \n",
        "import random\n",
        "import gzip\n",
        "import math\n",
        "import functools\n",
        "import os\n",
        "\n",
        "from sklearn import svm\n",
        "from sklearn.svm import SVC\n",
        "from sklearn import metrics, neighbors\n",
        "from sklearn.metrics.pairwise import euclidean_distances\n",
        "from sklearn.model_selection import validation_curve\n",
        "from sklearn.model_selection import KFold\n",
        "from sklearn.model_selection import cross_val_score\n",
        "from sklearn.model_selection import GridSearchCV\n",
        "from skimage import exposure\n",
        "from skimage import feature\n"
      ],
      "metadata": {
        "id": "ErkbEX4peIQ8"
      },
      "execution_count": 3,
      "outputs": []
    },
    {
      "cell_type": "code",
      "source": [
        "n_epochs = 4\n",
        "batch_size_train = 100\n",
        "batch_size_test = 1000\n",
        "learning_rate = 0.01\n",
        "momentum = 0.5\n",
        "log_interval = 10\n",
        "\n",
        "random_seed = 1\n",
        "torch.backends.cudnn.enabled = False\n",
        "torch.manual_seed(random_seed)"
      ],
      "metadata": {
        "colab": {
          "base_uri": "https://localhost:8080/"
        },
        "id": "fw3f6su4kCc_",
        "outputId": "295881f6-35eb-44a1-d2d5-de5514d8aff2"
      },
      "execution_count": 4,
      "outputs": [
        {
          "output_type": "execute_result",
          "data": {
            "text/plain": [
              "<torch._C.Generator at 0x7fca79caa170>"
            ]
          },
          "metadata": {},
          "execution_count": 4
        }
      ]
    },
    {
      "cell_type": "code",
      "source": [
        "train_loader = torch.utils.data.DataLoader(\n",
        "  torchvision.datasets.MNIST('/files/', train=True, download=True,\n",
        "                             transform=torchvision.transforms.Compose([\n",
        "                               torchvision.transforms.ToTensor(),\n",
        "                               torchvision.transforms.Normalize(\n",
        "                                 (0.1307,), (0.3081,))\n",
        "                             ])),\n",
        "  batch_size=batch_size_train, shuffle=True)\n",
        "\n",
        "#'DataLoader' object has no attribute 'shape'\n",
        "test_loader = torch.utils.data.DataLoader(\n",
        "  torchvision.datasets.MNIST('/files/', train=False, download=True,\n",
        "                             transform=torchvision.transforms.Compose([\n",
        "                               torchvision.transforms.ToTensor(),\n",
        "                               torchvision.transforms.Normalize(\n",
        "                                 (0.1307,), (0.3081,))\n",
        "                             ])),\n",
        "  batch_size=batch_size_test, shuffle=True)"
      ],
      "metadata": {
        "id": "nAqYdmMUhO3h",
        "colab": {
          "base_uri": "https://localhost:8080/",
          "height": 439,
          "referenced_widgets": [
            "6ded364e3f11444d88cc9ea7af22ff36",
            "a04ef81d2fd346de9d5c1d05dc9e16ae",
            "36b1014030614688841ed6b6948f6bc4",
            "d89a568f3afa48d68a33066e991c847f",
            "df1229fd80244e12b3eb318cd98af1dd",
            "ba0bb7716a394a0697e08f5fcb70a3aa",
            "800ea987e6f74a31850b8b809020accb",
            "53d8a8a8e10c44f28e9cd1c24193370a",
            "b4c4c4d7a46c476b96b20fe570af6ec8",
            "726d241b28f34fd49d6588cfaa40e7d0",
            "13245131728a4185a9dc41ec42203ba3",
            "0faf4a2407fa48708425380bc6efeede",
            "f111543ae254471e8c70b5572210f418",
            "acecc65f97b4491c9a13b4a52a3e6654",
            "8679573769e741eb82cb9600e114e2e3",
            "e18142b4df124013ae68f74bcfef7920",
            "548c39f9808041dea65d554ba5d57f14",
            "4569a8ede1a644ff83b7fa97c4f77947",
            "1836cdf860fd440088599d5d3ca67f9f",
            "a225f997bb0b48f7a7b28110dcb1b233",
            "b24b0455e0b24653a71e5be4cd4cd8f7",
            "7ee03cc45886475f9b8ad76ce47341b1",
            "2101ca3a8caf4ab7b76072d91f60f41f",
            "7f776ee3f99b4928888858d9fca86df1",
            "f103a9cedf504dc0805074d29522794f",
            "6df4c3536d3544abb9f4a06bf7ebc464",
            "adcf5a265d3d4a699c7826e84d6d0618",
            "0dedcffa10124c9d800d0a13c7724c18",
            "5749eb02c04648109932deda3f6ea767",
            "ca633e99057e46d4b278f636f53c30b8",
            "a4d724e2a5e14c54843dd8780b59b0f1",
            "6e02ed97cb3940ab824be0802ae9a3a9",
            "f3af1ed392284da5bb15f4422e2edc40",
            "fcd1abe3b6d64ba89eb86aa169166c31",
            "71ddb5b5b11f41d28ede45c221ee76ab",
            "ccaf52567118404d9f126f93c2e649a5",
            "f2fb99b9be0342a9883f11b1bb5111b4",
            "88cef59c48664a45888c4eab74e24bcb",
            "d39a983c062b4661b98f8f4a255d8b6e",
            "17e9972258b74f4d90cfd1b0d1818603",
            "546a003be0d2448da428041ef46d5d2a",
            "31dfc8d5564a462db61f14d7177cc9ba",
            "3822979c805f4148905463f4bc3b4eb6",
            "ed48bfd6fcb24b379842f71980de7109"
          ]
        },
        "outputId": "26c1b536-9eff-4966-bd66-9f42f87f073a"
      },
      "execution_count": 5,
      "outputs": [
        {
          "output_type": "stream",
          "name": "stdout",
          "text": [
            "Downloading http://yann.lecun.com/exdb/mnist/train-images-idx3-ubyte.gz\n",
            "Downloading http://yann.lecun.com/exdb/mnist/train-images-idx3-ubyte.gz to /files/MNIST/raw/train-images-idx3-ubyte.gz\n"
          ]
        },
        {
          "output_type": "display_data",
          "data": {
            "text/plain": [
              "  0%|          | 0/9912422 [00:00<?, ?it/s]"
            ],
            "application/vnd.jupyter.widget-view+json": {
              "version_major": 2,
              "version_minor": 0,
              "model_id": "6ded364e3f11444d88cc9ea7af22ff36"
            }
          },
          "metadata": {}
        },
        {
          "output_type": "stream",
          "name": "stdout",
          "text": [
            "Extracting /files/MNIST/raw/train-images-idx3-ubyte.gz to /files/MNIST/raw\n",
            "\n",
            "Downloading http://yann.lecun.com/exdb/mnist/train-labels-idx1-ubyte.gz\n",
            "Downloading http://yann.lecun.com/exdb/mnist/train-labels-idx1-ubyte.gz to /files/MNIST/raw/train-labels-idx1-ubyte.gz\n"
          ]
        },
        {
          "output_type": "display_data",
          "data": {
            "text/plain": [
              "  0%|          | 0/28881 [00:00<?, ?it/s]"
            ],
            "application/vnd.jupyter.widget-view+json": {
              "version_major": 2,
              "version_minor": 0,
              "model_id": "0faf4a2407fa48708425380bc6efeede"
            }
          },
          "metadata": {}
        },
        {
          "output_type": "stream",
          "name": "stdout",
          "text": [
            "Extracting /files/MNIST/raw/train-labels-idx1-ubyte.gz to /files/MNIST/raw\n",
            "\n",
            "Downloading http://yann.lecun.com/exdb/mnist/t10k-images-idx3-ubyte.gz\n",
            "Downloading http://yann.lecun.com/exdb/mnist/t10k-images-idx3-ubyte.gz to /files/MNIST/raw/t10k-images-idx3-ubyte.gz\n"
          ]
        },
        {
          "output_type": "display_data",
          "data": {
            "text/plain": [
              "  0%|          | 0/1648877 [00:00<?, ?it/s]"
            ],
            "application/vnd.jupyter.widget-view+json": {
              "version_major": 2,
              "version_minor": 0,
              "model_id": "2101ca3a8caf4ab7b76072d91f60f41f"
            }
          },
          "metadata": {}
        },
        {
          "output_type": "stream",
          "name": "stdout",
          "text": [
            "Extracting /files/MNIST/raw/t10k-images-idx3-ubyte.gz to /files/MNIST/raw\n",
            "\n",
            "Downloading http://yann.lecun.com/exdb/mnist/t10k-labels-idx1-ubyte.gz\n",
            "Downloading http://yann.lecun.com/exdb/mnist/t10k-labels-idx1-ubyte.gz to /files/MNIST/raw/t10k-labels-idx1-ubyte.gz\n"
          ]
        },
        {
          "output_type": "display_data",
          "data": {
            "text/plain": [
              "  0%|          | 0/4542 [00:00<?, ?it/s]"
            ],
            "application/vnd.jupyter.widget-view+json": {
              "version_major": 2,
              "version_minor": 0,
              "model_id": "fcd1abe3b6d64ba89eb86aa169166c31"
            }
          },
          "metadata": {}
        },
        {
          "output_type": "stream",
          "name": "stdout",
          "text": [
            "Extracting /files/MNIST/raw/t10k-labels-idx1-ubyte.gz to /files/MNIST/raw\n",
            "\n"
          ]
        }
      ]
    },
    {
      "cell_type": "code",
      "source": [
        "examples = enumerate(test_loader)\n",
        "batch_idx, (example_data, example_targets) = next(examples)\n",
        "example_data=example_data.to(device=device)\n",
        "example_targets= example_targets.to(device=device)\n"
      ],
      "metadata": {
        "id": "IM1ZxpGqkcLA"
      },
      "execution_count": 22,
      "outputs": []
    },
    {
      "cell_type": "code",
      "source": [
        "fig = plt.figure()\n",
        "for i in range(6):\n",
        "  plt.subplot(2,3,i+1)\n",
        "  plt.tight_layout()\n",
        "  plt.imshow(example_data.cpu()[i][0], cmap='gray', interpolation='none')\n",
        "  plt.title(\"Exact number: {}\".format(example_targets[i]))\n",
        "  plt.xticks([])\n",
        "  plt.yticks([])\n",
        "fig"
      ],
      "metadata": {
        "colab": {
          "base_uri": "https://localhost:8080/",
          "height": 551
        },
        "id": "l9yuc_v19k4U",
        "outputId": "20a4f20d-971b-4412-ea56-be620d4e4825"
      },
      "execution_count": 24,
      "outputs": [
        {
          "output_type": "execute_result",
          "data": {
            "text/plain": [
              "<Figure size 432x288 with 6 Axes>"
            ],
            "image/png": "[encoded data removed]"
          },
          "metadata": {},
          "execution_count": 24
        },
        {
          "output_type": "display_data",
          "data": {
            "text/plain": [
              "<Figure size 432x288 with 6 Axes>"
            ],
            "image/png": "[encoded data removed]"
          },
          "metadata": {}
        }
      ]
    },
    {
      "cell_type": "markdown",
      "source": [
        "Building a network"
      ],
      "metadata": {
        "id": "DcHZ99DjBeus"
      }
    },
    {
      "cell_type": "code",
      "source": [
        "import torch.nn as nn\n",
        "import torch.nn.functional as F\n",
        "import torch.optim as optim"
      ],
      "metadata": {
        "id": "tQ1VI6pD_0Yw"
      },
      "execution_count": 8,
      "outputs": []
    },
    {
      "cell_type": "code",
      "source": [
        "class Net(nn.Module):\n",
        "    def __init__(self):\n",
        "        super(Net, self).__init__()\n",
        "        self.conv1 = nn.Conv2d(1, 10, kernel_size=5)\n",
        "        self.conv2 = nn.Conv2d(10, 20, kernel_size=5)\n",
        "        self.conv2_drop = nn.Dropout2d()\n",
        "        self.fc1 = nn.Linear(320, 50)  \n",
        "        self.fc2 = nn.Linear(50, 10)\n",
        "\n",
        "    def forward(self, x):\n",
        "        x = F.relu(F.max_pool2d(self.conv1(x), 2))\n",
        "        x = F.relu(F.max_pool2d(self.conv2_drop(self.conv2(x)), 2))\n",
        "        x = x.view(-1, 320)       #you don't know how many rows you want but are sure of the number of columns,\n",
        "        x = F.relu(self.fc1(x))\n",
        "        x = F.dropout(x, training=self.training)\n",
        "        x = self.fc2(x)\n",
        "        return F.log_softmax(x)"
      ],
      "metadata": {
        "id": "JmIAcnrah2uV"
      },
      "execution_count": 9,
      "outputs": []
    },
    {
      "cell_type": "code",
      "source": [
        "network = Net().to(device=device)\n",
        "optimizer = optim.SGD(network.parameters(), lr=learning_rate,\n",
        "                      momentum=momentum)"
      ],
      "metadata": {
        "id": "Ywx2n1Vfh3BZ"
      },
      "execution_count": 10,
      "outputs": []
    },
    {
      "cell_type": "code",
      "source": [
        "def train(epoch):\n",
        "  network.train()\n",
        "  for batch_idx, (data, target) in enumerate(train_loader):\n",
        "    target = target.to(device=device)\n",
        "    data = data.to(device=device)\n",
        "    optimizer.zero_grad()  \n",
        "    output = network(data)   \n",
        "    loss = F.nll_loss(output, target)\n",
        "    loss.backward()\n",
        "    optimizer.step()\n",
        "\n",
        "    if batch_idx % log_interval == 0:\n",
        "      print('Train Epoch: {} [{}/{} ({:.0f}%)]\\tLoss: {:.6f}'.format(\n",
        "        epoch, batch_idx * len(data), len(train_loader.dataset),\n",
        "        100. * batch_idx / len(train_loader), loss.item()))\n",
        "      train_losses.append(loss.item())\n",
        "      train_counter.append(\n",
        "        (batch_idx*64) + ((epoch-1)*len(train_loader.dataset)))\n"
      ],
      "metadata": {
        "id": "o1GwiZqyqo2p"
      },
      "execution_count": 11,
      "outputs": []
    },
    {
      "cell_type": "code",
      "source": [
        "train_losses = []\n",
        "train_counter = []\n",
        "test_losses = []\n",
        "test_counter = [i*len(train_loader.dataset) for i in range(n_epochs + 1)]"
      ],
      "metadata": {
        "id": "Fwte7NeOscUU"
      },
      "execution_count": 12,
      "outputs": []
    },
    {
      "cell_type": "code",
      "source": [
        "def test():\n",
        "  network.eval()\n",
        "  test_loss = 0\n",
        "  correct = 0\n",
        "  with torch.no_grad():\n",
        "    for data, target in test_loader:\n",
        "      target = target.to(device=device)\n",
        "      data = data.to(device=device)\n",
        "      output = network(data)\n",
        "      test_loss += F.nll_loss(output, target, size_average=False).item()\n",
        "      pred = output.data.max(1, keepdim=True)[1]\n",
        "      correct += pred.eq(target.data.view_as(pred)).sum()\n",
        "  test_loss /= len(test_loader.dataset)\n",
        "  test_losses.append(test_loss)\n",
        "  print('\\nTest set: Avg. loss: {:.4f}, Accuracy: {}/{} ({:.0f}%)\\n'.format(\n",
        "    test_loss, correct, len(test_loader.dataset),\n",
        "    100. * correct / len(test_loader.dataset)))"
      ],
      "metadata": {
        "id": "rmjGVBJasmvt"
      },
      "execution_count": 13,
      "outputs": []
    },
    {
      "cell_type": "markdown",
      "source": [
        "Train the model and run on test set"
      ],
      "metadata": {
        "id": "PRi-8qbpBSWw"
      }
    },
    {
      "cell_type": "code",
      "source": [
        "test()\n",
        "for epoch in range(1, n_epochs + 1):\n",
        "  train(epoch)\n",
        "  test()"
      ],
      "metadata": {
        "colab": {
          "base_uri": "https://localhost:8080/"
        },
        "id": "Ec3suRlxssNh",
        "outputId": "edaa0bd7-87b9-4bd0-9084-550f224572c7"
      },
      "execution_count": 14,
      "outputs": [
        {
          "output_type": "stream",
          "name": "stderr",
          "text": [
            "/usr/local/lib/python3.7/dist-packages/ipykernel_launcher.py:17: UserWarning: Implicit dimension choice for log_softmax has been deprecated. Change the call to include dim=X as an argument.\n",
            "/usr/local/lib/python3.7/dist-packages/torch/nn/_reduction.py:42: UserWarning: size_average and reduce args will be deprecated, please use reduction='sum' instead.\n",
            "  warnings.warn(warning.format(ret))\n"
          ]
        },
        {
          "output_type": "stream",
          "name": "stdout",
          "text": [
            "\n",
            "Test set: Avg. loss: 2.3096, Accuracy: 924/10000 (9%)\n",
            "\n",
            "Train Epoch: 1 [0/60000 (0%)]\tLoss: 2.326960\n",
            "Train Epoch: 1 [1000/60000 (2%)]\tLoss: 2.306949\n",
            "Train Epoch: 1 [2000/60000 (3%)]\tLoss: 2.280513\n",
            "Train Epoch: 1 [3000/60000 (5%)]\tLoss: 2.270255\n",
            "Train Epoch: 1 [4000/60000 (7%)]\tLoss: 2.250465\n",
            "Train Epoch: 1 [5000/60000 (8%)]\tLoss: 2.237874\n",
            "Train Epoch: 1 [6000/60000 (10%)]\tLoss: 2.221746\n",
            "Train Epoch: 1 [7000/60000 (12%)]\tLoss: 2.184109\n",
            "Train Epoch: 1 [8000/60000 (13%)]\tLoss: 2.187201\n",
            "Train Epoch: 1 [9000/60000 (15%)]\tLoss: 2.083960\n",
            "Train Epoch: 1 [10000/60000 (17%)]\tLoss: 1.932725\n",
            "Train Epoch: 1 [11000/60000 (18%)]\tLoss: 1.697922\n",
            "Train Epoch: 1 [12000/60000 (20%)]\tLoss: 1.672135\n",
            "Train Epoch: 1 [13000/60000 (22%)]\tLoss: 1.538925\n",
            "Train Epoch: 1 [14000/60000 (23%)]\tLoss: 1.523081\n",
            "Train Epoch: 1 [15000/60000 (25%)]\tLoss: 1.554050\n",
            "Train Epoch: 1 [16000/60000 (27%)]\tLoss: 1.271878\n",
            "Train Epoch: 1 [17000/60000 (28%)]\tLoss: 1.281574\n",
            "Train Epoch: 1 [18000/60000 (30%)]\tLoss: 1.210876\n",
            "Train Epoch: 1 [19000/60000 (32%)]\tLoss: 1.119560\n",
            "Train Epoch: 1 [20000/60000 (33%)]\tLoss: 1.149200\n",
            "Train Epoch: 1 [21000/60000 (35%)]\tLoss: 0.974376\n",
            "Train Epoch: 1 [22000/60000 (37%)]\tLoss: 1.175539\n",
            "Train Epoch: 1 [23000/60000 (38%)]\tLoss: 0.980006\n",
            "Train Epoch: 1 [24000/60000 (40%)]\tLoss: 0.898722\n",
            "Train Epoch: 1 [25000/60000 (42%)]\tLoss: 0.863320\n",
            "Train Epoch: 1 [26000/60000 (43%)]\tLoss: 0.758399\n",
            "Train Epoch: 1 [27000/60000 (45%)]\tLoss: 1.019640\n",
            "Train Epoch: 1 [28000/60000 (47%)]\tLoss: 0.812873\n",
            "Train Epoch: 1 [29000/60000 (48%)]\tLoss: 1.048903\n",
            "Train Epoch: 1 [30000/60000 (50%)]\tLoss: 0.835835\n",
            "Train Epoch: 1 [31000/60000 (52%)]\tLoss: 0.783420\n",
            "Train Epoch: 1 [32000/60000 (53%)]\tLoss: 0.846180\n",
            "Train Epoch: 1 [33000/60000 (55%)]\tLoss: 0.755243\n",
            "Train Epoch: 1 [34000/60000 (57%)]\tLoss: 0.859747\n",
            "Train Epoch: 1 [35000/60000 (58%)]\tLoss: 0.674698\n",
            "Train Epoch: 1 [36000/60000 (60%)]\tLoss: 0.691837\n",
            "Train Epoch: 1 [37000/60000 (62%)]\tLoss: 0.661380\n",
            "Train Epoch: 1 [38000/60000 (63%)]\tLoss: 0.665079\n",
            "Train Epoch: 1 [39000/60000 (65%)]\tLoss: 0.722053\n",
            "Train Epoch: 1 [40000/60000 (67%)]\tLoss: 0.817453\n",
            "Train Epoch: 1 [41000/60000 (68%)]\tLoss: 0.625611\n",
            "Train Epoch: 1 [42000/60000 (70%)]\tLoss: 0.518845\n",
            "Train Epoch: 1 [43000/60000 (72%)]\tLoss: 0.689221\n",
            "Train Epoch: 1 [44000/60000 (73%)]\tLoss: 0.763475\n",
            "Train Epoch: 1 [45000/60000 (75%)]\tLoss: 0.578962\n",
            "Train Epoch: 1 [46000/60000 (77%)]\tLoss: 0.555456\n",
            "Train Epoch: 1 [47000/60000 (78%)]\tLoss: 0.714074\n",
            "Train Epoch: 1 [48000/60000 (80%)]\tLoss: 0.643042\n",
            "Train Epoch: 1 [49000/60000 (82%)]\tLoss: 0.660365\n",
            "Train Epoch: 1 [50000/60000 (83%)]\tLoss: 0.544848\n",
            "Train Epoch: 1 [51000/60000 (85%)]\tLoss: 0.657447\n",
            "Train Epoch: 1 [52000/60000 (87%)]\tLoss: 0.444670\n",
            "Train Epoch: 1 [53000/60000 (88%)]\tLoss: 0.984279\n",
            "Train Epoch: 1 [54000/60000 (90%)]\tLoss: 0.504567\n",
            "Train Epoch: 1 [55000/60000 (92%)]\tLoss: 0.659979\n",
            "Train Epoch: 1 [56000/60000 (93%)]\tLoss: 0.629194\n",
            "Train Epoch: 1 [57000/60000 (95%)]\tLoss: 0.683746\n",
            "Train Epoch: 1 [58000/60000 (97%)]\tLoss: 0.626983\n",
            "Train Epoch: 1 [59000/60000 (98%)]\tLoss: 0.722440\n",
            "\n",
            "Test set: Avg. loss: 0.2596, Accuracy: 9261/10000 (93%)\n",
            "\n",
            "Train Epoch: 2 [0/60000 (0%)]\tLoss: 0.712170\n",
            "Train Epoch: 2 [1000/60000 (2%)]\tLoss: 0.631737\n",
            "Train Epoch: 2 [2000/60000 (3%)]\tLoss: 0.560456\n",
            "Train Epoch: 2 [3000/60000 (5%)]\tLoss: 0.625752\n",
            "Train Epoch: 2 [4000/60000 (7%)]\tLoss: 0.674079\n",
            "Train Epoch: 2 [5000/60000 (8%)]\tLoss: 0.672835\n",
            "Train Epoch: 2 [6000/60000 (10%)]\tLoss: 0.650676\n",
            "Train Epoch: 2 [7000/60000 (12%)]\tLoss: 0.638757\n",
            "Train Epoch: 2 [8000/60000 (13%)]\tLoss: 0.494594\n",
            "Train Epoch: 2 [9000/60000 (15%)]\tLoss: 0.624680\n",
            "Train Epoch: 2 [10000/60000 (17%)]\tLoss: 0.657322\n",
            "Train Epoch: 2 [11000/60000 (18%)]\tLoss: 0.445370\n",
            "Train Epoch: 2 [12000/60000 (20%)]\tLoss: 0.469188\n",
            "Train Epoch: 2 [13000/60000 (22%)]\tLoss: 0.473641\n",
            "Train Epoch: 2 [14000/60000 (23%)]\tLoss: 0.482257\n",
            "Train Epoch: 2 [15000/60000 (25%)]\tLoss: 0.519789\n",
            "Train Epoch: 2 [16000/60000 (27%)]\tLoss: 0.405597\n",
            "Train Epoch: 2 [17000/60000 (28%)]\tLoss: 0.605547\n",
            "Train Epoch: 2 [18000/60000 (30%)]\tLoss: 0.500230\n",
            "Train Epoch: 2 [19000/60000 (32%)]\tLoss: 0.438763\n",
            "Train Epoch: 2 [20000/60000 (33%)]\tLoss: 0.389324\n",
            "Train Epoch: 2 [21000/60000 (35%)]\tLoss: 0.563170\n",
            "Train Epoch: 2 [22000/60000 (37%)]\tLoss: 0.434683\n",
            "Train Epoch: 2 [23000/60000 (38%)]\tLoss: 0.606637\n",
            "Train Epoch: 2 [24000/60000 (40%)]\tLoss: 0.435811\n",
            "Train Epoch: 2 [25000/60000 (42%)]\tLoss: 0.434383\n",
            "Train Epoch: 2 [26000/60000 (43%)]\tLoss: 0.473150\n",
            "Train Epoch: 2 [27000/60000 (45%)]\tLoss: 0.358222\n",
            "Train Epoch: 2 [28000/60000 (47%)]\tLoss: 0.348265\n",
            "Train Epoch: 2 [29000/60000 (48%)]\tLoss: 0.526244\n",
            "Train Epoch: 2 [30000/60000 (50%)]\tLoss: 0.533066\n",
            "Train Epoch: 2 [31000/60000 (52%)]\tLoss: 0.543585\n",
            "Train Epoch: 2 [32000/60000 (53%)]\tLoss: 0.258963\n",
            "Train Epoch: 2 [33000/60000 (55%)]\tLoss: 0.362242\n",
            "Train Epoch: 2 [34000/60000 (57%)]\tLoss: 0.453694\n",
            "Train Epoch: 2 [35000/60000 (58%)]\tLoss: 0.441471\n",
            "Train Epoch: 2 [36000/60000 (60%)]\tLoss: 0.296673\n",
            "Train Epoch: 2 [37000/60000 (62%)]\tLoss: 0.303782\n",
            "Train Epoch: 2 [38000/60000 (63%)]\tLoss: 0.627791\n",
            "Train Epoch: 2 [39000/60000 (65%)]\tLoss: 0.575603\n",
            "Train Epoch: 2 [40000/60000 (67%)]\tLoss: 0.423004\n",
            "Train Epoch: 2 [41000/60000 (68%)]\tLoss: 0.519013\n",
            "Train Epoch: 2 [42000/60000 (70%)]\tLoss: 0.486566\n",
            "Train Epoch: 2 [43000/60000 (72%)]\tLoss: 0.327924\n",
            "Train Epoch: 2 [44000/60000 (73%)]\tLoss: 0.425373\n",
            "Train Epoch: 2 [45000/60000 (75%)]\tLoss: 0.610142\n",
            "Train Epoch: 2 [46000/60000 (77%)]\tLoss: 0.422315\n",
            "Train Epoch: 2 [47000/60000 (78%)]\tLoss: 0.413661\n",
            "Train Epoch: 2 [48000/60000 (80%)]\tLoss: 0.478466\n",
            "Train Epoch: 2 [49000/60000 (82%)]\tLoss: 0.351876\n",
            "Train Epoch: 2 [50000/60000 (83%)]\tLoss: 0.578282\n",
            "Train Epoch: 2 [51000/60000 (85%)]\tLoss: 0.379243\n",
            "Train Epoch: 2 [52000/60000 (87%)]\tLoss: 0.313089\n",
            "Train Epoch: 2 [53000/60000 (88%)]\tLoss: 0.406346\n",
            "Train Epoch: 2 [54000/60000 (90%)]\tLoss: 0.549481\n",
            "Train Epoch: 2 [55000/60000 (92%)]\tLoss: 0.401449\n",
            "Train Epoch: 2 [56000/60000 (93%)]\tLoss: 0.348248\n",
            "Train Epoch: 2 [57000/60000 (95%)]\tLoss: 0.390141\n",
            "Train Epoch: 2 [58000/60000 (97%)]\tLoss: 0.406128\n",
            "Train Epoch: 2 [59000/60000 (98%)]\tLoss: 0.429361\n",
            "\n",
            "Test set: Avg. loss: 0.1540, Accuracy: 9533/10000 (95%)\n",
            "\n",
            "Train Epoch: 3 [0/60000 (0%)]\tLoss: 0.517688\n",
            "Train Epoch: 3 [1000/60000 (2%)]\tLoss: 0.269655\n",
            "Train Epoch: 3 [2000/60000 (3%)]\tLoss: 0.452194\n",
            "Train Epoch: 3 [3000/60000 (5%)]\tLoss: 0.556536\n",
            "Train Epoch: 3 [4000/60000 (7%)]\tLoss: 0.270123\n",
            "Train Epoch: 3 [5000/60000 (8%)]\tLoss: 0.510157\n",
            "Train Epoch: 3 [6000/60000 (10%)]\tLoss: 0.357104\n",
            "Train Epoch: 3 [7000/60000 (12%)]\tLoss: 0.267583\n",
            "Train Epoch: 3 [8000/60000 (13%)]\tLoss: 0.351876\n",
            "Train Epoch: 3 [9000/60000 (15%)]\tLoss: 0.395801\n",
            "Train Epoch: 3 [10000/60000 (17%)]\tLoss: 0.373169\n",
            "Train Epoch: 3 [11000/60000 (18%)]\tLoss: 0.376492\n",
            "Train Epoch: 3 [12000/60000 (20%)]\tLoss: 0.384601\n",
            "Train Epoch: 3 [13000/60000 (22%)]\tLoss: 0.299520\n",
            "Train Epoch: 3 [14000/60000 (23%)]\tLoss: 0.406139\n",
            "Train Epoch: 3 [15000/60000 (25%)]\tLoss: 0.267726\n",
            "Train Epoch: 3 [16000/60000 (27%)]\tLoss: 0.490497\n",
            "Train Epoch: 3 [17000/60000 (28%)]\tLoss: 0.492203\n",
            "Train Epoch: 3 [18000/60000 (30%)]\tLoss: 0.364398\n",
            "Train Epoch: 3 [19000/60000 (32%)]\tLoss: 0.566980\n",
            "Train Epoch: 3 [20000/60000 (33%)]\tLoss: 0.344379\n",
            "Train Epoch: 3 [21000/60000 (35%)]\tLoss: 0.319460\n",
            "Train Epoch: 3 [22000/60000 (37%)]\tLoss: 0.177114\n",
            "Train Epoch: 3 [23000/60000 (38%)]\tLoss: 0.387988\n",
            "Train Epoch: 3 [24000/60000 (40%)]\tLoss: 0.228981\n",
            "Train Epoch: 3 [25000/60000 (42%)]\tLoss: 0.395521\n",
            "Train Epoch: 3 [26000/60000 (43%)]\tLoss: 0.243473\n",
            "Train Epoch: 3 [27000/60000 (45%)]\tLoss: 0.341111\n",
            "Train Epoch: 3 [28000/60000 (47%)]\tLoss: 0.386582\n",
            "Train Epoch: 3 [29000/60000 (48%)]\tLoss: 0.496567\n",
            "Train Epoch: 3 [30000/60000 (50%)]\tLoss: 0.359547\n",
            "Train Epoch: 3 [31000/60000 (52%)]\tLoss: 0.621852\n",
            "Train Epoch: 3 [32000/60000 (53%)]\tLoss: 0.268681\n",
            "Train Epoch: 3 [33000/60000 (55%)]\tLoss: 0.256622\n",
            "Train Epoch: 3 [34000/60000 (57%)]\tLoss: 0.550210\n",
            "Train Epoch: 3 [35000/60000 (58%)]\tLoss: 0.656130\n",
            "Train Epoch: 3 [36000/60000 (60%)]\tLoss: 0.499172\n",
            "Train Epoch: 3 [37000/60000 (62%)]\tLoss: 0.218710\n",
            "Train Epoch: 3 [38000/60000 (63%)]\tLoss: 0.325199\n",
            "Train Epoch: 3 [39000/60000 (65%)]\tLoss: 0.287485\n",
            "Train Epoch: 3 [40000/60000 (67%)]\tLoss: 0.363941\n",
            "Train Epoch: 3 [41000/60000 (68%)]\tLoss: 0.300877\n",
            "Train Epoch: 3 [42000/60000 (70%)]\tLoss: 0.404277\n",
            "Train Epoch: 3 [43000/60000 (72%)]\tLoss: 0.342119\n",
            "Train Epoch: 3 [44000/60000 (73%)]\tLoss: 0.235619\n",
            "Train Epoch: 3 [45000/60000 (75%)]\tLoss: 0.309234\n",
            "Train Epoch: 3 [46000/60000 (77%)]\tLoss: 0.311194\n",
            "Train Epoch: 3 [47000/60000 (78%)]\tLoss: 0.305314\n",
            "Train Epoch: 3 [48000/60000 (80%)]\tLoss: 0.281510\n",
            "Train Epoch: 3 [49000/60000 (82%)]\tLoss: 0.244470\n",
            "Train Epoch: 3 [50000/60000 (83%)]\tLoss: 0.369177\n",
            "Train Epoch: 3 [51000/60000 (85%)]\tLoss: 0.299320\n",
            "Train Epoch: 3 [52000/60000 (87%)]\tLoss: 0.318986\n",
            "Train Epoch: 3 [53000/60000 (88%)]\tLoss: 0.297926\n",
            "Train Epoch: 3 [54000/60000 (90%)]\tLoss: 0.464945\n",
            "Train Epoch: 3 [55000/60000 (92%)]\tLoss: 0.448002\n",
            "Train Epoch: 3 [56000/60000 (93%)]\tLoss: 0.369502\n",
            "Train Epoch: 3 [57000/60000 (95%)]\tLoss: 0.258326\n",
            "Train Epoch: 3 [58000/60000 (97%)]\tLoss: 0.203095\n",
            "Train Epoch: 3 [59000/60000 (98%)]\tLoss: 0.308611\n",
            "\n",
            "Test set: Avg. loss: 0.1137, Accuracy: 9659/10000 (97%)\n",
            "\n",
            "Train Epoch: 4 [0/60000 (0%)]\tLoss: 0.231037\n",
            "Train Epoch: 4 [1000/60000 (2%)]\tLoss: 0.248118\n",
            "Train Epoch: 4 [2000/60000 (3%)]\tLoss: 0.354357\n",
            "Train Epoch: 4 [3000/60000 (5%)]\tLoss: 0.361334\n",
            "Train Epoch: 4 [4000/60000 (7%)]\tLoss: 0.286533\n",
            "Train Epoch: 4 [5000/60000 (8%)]\tLoss: 0.369045\n",
            "Train Epoch: 4 [6000/60000 (10%)]\tLoss: 0.366016\n",
            "Train Epoch: 4 [7000/60000 (12%)]\tLoss: 0.230629\n",
            "Train Epoch: 4 [8000/60000 (13%)]\tLoss: 0.244383\n",
            "Train Epoch: 4 [9000/60000 (15%)]\tLoss: 0.332356\n",
            "Train Epoch: 4 [10000/60000 (17%)]\tLoss: 0.345727\n",
            "Train Epoch: 4 [11000/60000 (18%)]\tLoss: 0.432743\n",
            "Train Epoch: 4 [12000/60000 (20%)]\tLoss: 0.366184\n",
            "Train Epoch: 4 [13000/60000 (22%)]\tLoss: 0.476984\n",
            "Train Epoch: 4 [14000/60000 (23%)]\tLoss: 0.361796\n",
            "Train Epoch: 4 [15000/60000 (25%)]\tLoss: 0.317725\n",
            "Train Epoch: 4 [16000/60000 (27%)]\tLoss: 0.193518\n",
            "Train Epoch: 4 [17000/60000 (28%)]\tLoss: 0.353074\n",
            "Train Epoch: 4 [18000/60000 (30%)]\tLoss: 0.265484\n",
            "Train Epoch: 4 [19000/60000 (32%)]\tLoss: 0.249992\n",
            "Train Epoch: 4 [20000/60000 (33%)]\tLoss: 0.142957\n",
            "Train Epoch: 4 [21000/60000 (35%)]\tLoss: 0.245129\n",
            "Train Epoch: 4 [22000/60000 (37%)]\tLoss: 0.462396\n",
            "Train Epoch: 4 [23000/60000 (38%)]\tLoss: 0.325501\n",
            "Train Epoch: 4 [24000/60000 (40%)]\tLoss: 0.373660\n",
            "Train Epoch: 4 [25000/60000 (42%)]\tLoss: 0.194573\n",
            "Train Epoch: 4 [26000/60000 (43%)]\tLoss: 0.442922\n",
            "Train Epoch: 4 [27000/60000 (45%)]\tLoss: 0.409387\n",
            "Train Epoch: 4 [28000/60000 (47%)]\tLoss: 0.322682\n",
            "Train Epoch: 4 [29000/60000 (48%)]\tLoss: 0.334251\n",
            "Train Epoch: 4 [30000/60000 (50%)]\tLoss: 0.226999\n",
            "Train Epoch: 4 [31000/60000 (52%)]\tLoss: 0.282792\n",
            "Train Epoch: 4 [32000/60000 (53%)]\tLoss: 0.239811\n",
            "Train Epoch: 4 [33000/60000 (55%)]\tLoss: 0.384732\n",
            "Train Epoch: 4 [34000/60000 (57%)]\tLoss: 0.187856\n",
            "Train Epoch: 4 [35000/60000 (58%)]\tLoss: 0.236255\n",
            "Train Epoch: 4 [36000/60000 (60%)]\tLoss: 0.190569\n",
            "Train Epoch: 4 [37000/60000 (62%)]\tLoss: 0.203637\n",
            "Train Epoch: 4 [38000/60000 (63%)]\tLoss: 0.177728\n",
            "Train Epoch: 4 [39000/60000 (65%)]\tLoss: 0.379815\n",
            "Train Epoch: 4 [40000/60000 (67%)]\tLoss: 0.304212\n",
            "Train Epoch: 4 [41000/60000 (68%)]\tLoss: 0.296813\n",
            "Train Epoch: 4 [42000/60000 (70%)]\tLoss: 0.362338\n",
            "Train Epoch: 4 [43000/60000 (72%)]\tLoss: 0.202985\n",
            "Train Epoch: 4 [44000/60000 (73%)]\tLoss: 0.217907\n",
            "Train Epoch: 4 [45000/60000 (75%)]\tLoss: 0.202712\n",
            "Train Epoch: 4 [46000/60000 (77%)]\tLoss: 0.233913\n",
            "Train Epoch: 4 [47000/60000 (78%)]\tLoss: 0.307566\n",
            "Train Epoch: 4 [48000/60000 (80%)]\tLoss: 0.202443\n",
            "Train Epoch: 4 [49000/60000 (82%)]\tLoss: 0.217435\n",
            "Train Epoch: 4 [50000/60000 (83%)]\tLoss: 0.308659\n",
            "Train Epoch: 4 [51000/60000 (85%)]\tLoss: 0.372761\n",
            "Train Epoch: 4 [52000/60000 (87%)]\tLoss: 0.235049\n",
            "Train Epoch: 4 [53000/60000 (88%)]\tLoss: 0.268363\n",
            "Train Epoch: 4 [54000/60000 (90%)]\tLoss: 0.174470\n",
            "Train Epoch: 4 [55000/60000 (92%)]\tLoss: 0.260836\n",
            "Train Epoch: 4 [56000/60000 (93%)]\tLoss: 0.226086\n",
            "Train Epoch: 4 [57000/60000 (95%)]\tLoss: 0.241167\n",
            "Train Epoch: 4 [58000/60000 (97%)]\tLoss: 0.334777\n",
            "Train Epoch: 4 [59000/60000 (98%)]\tLoss: 0.183035\n",
            "\n",
            "Test set: Avg. loss: 0.0968, Accuracy: 9698/10000 (97%)\n",
            "\n"
          ]
        }
      ]
    },
    {
      "cell_type": "markdown",
      "source": [
        "Compare train and test Loss"
      ],
      "metadata": {
        "id": "XRI1UqUyBL-m"
      }
    },
    {
      "cell_type": "code",
      "source": [
        "fig = plt.figure()\n",
        "plt.plot(train_counter, train_losses, color='black')\n",
        "plt.scatter(test_counter, test_losses, color='green')\n",
        "plt.legend(['Train Loss', 'Test Loss'], loc='upper right')\n",
        "plt.xlabel('number of training examples seen')\n",
        "plt.ylabel('negative log likelihood loss')\n",
        "fig"
      ],
      "metadata": {
        "colab": {
          "base_uri": "https://localhost:8080/",
          "height": 541
        },
        "id": "z00VBAGlvGbz",
        "outputId": "680fd1f5-9fcc-403a-b67d-7f208f44930b"
      },
      "execution_count": 16,
      "outputs": [
        {
          "output_type": "execute_result",
          "data": {
            "text/plain": [
              "<Figure size 432x288 with 1 Axes>"
            ],
            "image/png": "[encoded data removed]"
          },
          "metadata": {},
          "execution_count": 16
        },
        {
          "output_type": "display_data",
          "data": {
            "text/plain": [
              "<Figure size 432x288 with 1 Axes>"
            ],
            "image/png": "[encoded data removed]"
          },
          "metadata": {
            "needs_background": "light"
          }
        }
      ]
    },
    {
      "cell_type": "markdown",
      "source": [
        "Check how model can predict example"
      ],
      "metadata": {
        "id": "shxc1Dv1A7hT"
      }
    },
    {
      "cell_type": "code",
      "source": [
        "with torch.no_grad():\n",
        "  output = network(example_data)"
      ],
      "metadata": {
        "colab": {
          "base_uri": "https://localhost:8080/"
        },
        "id": "0CI718ErxZjd",
        "outputId": "4ab06a80-5456-42fc-9a3a-9ec0f6c6800f"
      },
      "execution_count": 26,
      "outputs": [
        {
          "output_type": "stream",
          "name": "stderr",
          "text": [
            "/usr/local/lib/python3.7/dist-packages/ipykernel_launcher.py:17: UserWarning: Implicit dimension choice for log_softmax has been deprecated. Change the call to include dim=X as an argument.\n"
          ]
        }
      ]
    },
    {
      "cell_type": "code",
      "source": [
        "fig = plt.figure()\n",
        "for i in range(6):\n",
        "  plt.subplot(2,3,i+1)\n",
        "  plt.tight_layout()\n",
        "  plt.imshow(example_data.cpu()[i][0], cmap='gray', interpolation='none')\n",
        "  plt.title(\"Prediction: {}\".format(\n",
        "    output.data.max(1, keepdim=True)[1][i].item()))\n",
        "  plt.xticks([])\n",
        "  plt.yticks([])\n",
        "fig"
      ],
      "metadata": {
        "colab": {
          "base_uri": "https://localhost:8080/",
          "height": 551
        },
        "id": "oLMALyWxxW2_",
        "outputId": "30746e61-942b-4b2a-a963-bb93382a07ce"
      },
      "execution_count": 27,
      "outputs": [
        {
          "output_type": "execute_result",
          "data": {
            "text/plain": [
              "<Figure size 432x288 with 6 Axes>"
            ],
            "image/png": "[encoded data removed]"
          },
          "metadata": {},
          "execution_count": 27
        },
        {
          "output_type": "display_data",
          "data": {
            "text/plain": [
              "<Figure size 432x288 with 6 Axes>"
            ],
            "image/png": "[encoded data removed]"
          },
          "metadata": {}
        }
      ]
    }
  ]
}